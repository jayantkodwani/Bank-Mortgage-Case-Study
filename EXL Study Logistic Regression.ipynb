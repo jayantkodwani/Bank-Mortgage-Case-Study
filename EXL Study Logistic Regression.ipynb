{
 "cells": [
  {
   "cell_type": "markdown",
   "id": "6e6198cb",
   "metadata": {
    "papermill": {
     "duration": 0.071008,
     "end_time": "2022-04-07T13:47:56.178103",
     "exception": false,
     "start_time": "2022-04-07T13:47:56.107095",
     "status": "completed"
    },
    "tags": []
   },
   "source": [
    "# EXL Mortgage Case Study"
   ]
  },
  {
   "cell_type": "markdown",
   "id": "c57fa828",
   "metadata": {},
   "source": [
    "This code is only for capability demonstration and is not intented to be 100% fine tuned. The algorithm demonstrated is Logistic Regression, however, better results could be obtained by other Classification algorithms as well. Offcourse, the accuracy of this model can be improved by fine tuning the data discrepencies and outlier removal"
   ]
  },
  {
   "cell_type": "markdown",
   "id": "d483ba9b",
   "metadata": {
    "papermill": {
     "duration": 0.066473,
     "end_time": "2022-04-07T13:47:56.313683",
     "exception": false,
     "start_time": "2022-04-07T13:47:56.247210",
     "status": "completed"
    },
    "tags": []
   },
   "source": [
    "**Importing libs**"
   ]
  },
  {
   "cell_type": "code",
   "execution_count": 154,
   "id": "726850ec",
   "metadata": {
    "execution": {
     "iopub.execute_input": "2022-04-07T13:47:56.457203Z",
     "iopub.status.busy": "2022-04-07T13:47:56.452151Z",
     "iopub.status.idle": "2022-04-07T13:47:57.394813Z",
     "shell.execute_reply": "2022-04-07T13:47:57.393978Z",
     "shell.execute_reply.started": "2022-04-07T13:45:47.183740Z"
    },
    "papermill": {
     "duration": 1.013397,
     "end_time": "2022-04-07T13:47:57.394973",
     "exception": false,
     "start_time": "2022-04-07T13:47:56.381576",
     "status": "completed"
    },
    "tags": []
   },
   "outputs": [],
   "source": [
    "import pandas as pd\n",
    "import numpy as np\n",
    "import matplotlib.pyplot as plt\n",
    "import seaborn as sns"
   ]
  },
  {
   "cell_type": "markdown",
   "id": "2227d50a",
   "metadata": {
    "papermill": {
     "duration": 0.0648,
     "end_time": "2022-04-07T13:47:57.524973",
     "exception": false,
     "start_time": "2022-04-07T13:47:57.460173",
     "status": "completed"
    },
    "tags": []
   },
   "source": [
    "** Reading the case study data from pandas**\n"
   ]
  },
  {
   "cell_type": "code",
   "execution_count": 155,
   "id": "84ec93b9",
   "metadata": {
    "execution": {
     "iopub.execute_input": "2022-04-07T13:47:57.661450Z",
     "iopub.status.busy": "2022-04-07T13:47:57.660905Z",
     "iopub.status.idle": "2022-04-07T13:47:57.704969Z",
     "shell.execute_reply": "2022-04-07T13:47:57.704271Z",
     "shell.execute_reply.started": "2022-04-07T13:45:47.194517Z"
    },
    "papermill": {
     "duration": 0.11487,
     "end_time": "2022-04-07T13:47:57.705103",
     "exception": false,
     "start_time": "2022-04-07T13:47:57.590233",
     "status": "completed"
    },
    "tags": []
   },
   "outputs": [],
   "source": [
    "data = pd.read_excel(r'C:/Users/jayan/Downloads/Case Study Data.xlsx', sheet_name='Data')"
   ]
  },
  {
   "cell_type": "markdown",
   "id": "b42894b3",
   "metadata": {},
   "source": [
    "** Keeping Specific Columns for Demonstration Purposes only"
   ]
  },
  {
   "cell_type": "code",
   "execution_count": 156,
   "id": "e5fc192b",
   "metadata": {},
   "outputs": [],
   "source": [
    "data= pd.DataFrame(data[['PPI','Credit_Score','Credit Score Category' ,'Final_Grade','Term','Term Category','Net_Advance','Loan_Type','Time_at_Address','Residential_Status','Number_of_Dependants','Marital_Status','Gender','Time_in_Employment','Employment_Status','Income_Range','ACCESS_Card','VISA_Card','American_Express','Diners_Card','Cheque_Guarantee','Time_with_Bank','Value_of_Property','Outstanding_Mortgage_Bal']])"
   ]
  },
  {
   "cell_type": "code",
   "execution_count": 157,
   "id": "25eb36e5",
   "metadata": {
    "execution": {
     "iopub.execute_input": "2022-04-07T13:47:57.846718Z",
     "iopub.status.busy": "2022-04-07T13:47:57.845742Z",
     "iopub.status.idle": "2022-04-07T13:47:57.865251Z",
     "shell.execute_reply": "2022-04-07T13:47:57.865699Z",
     "shell.execute_reply.started": "2022-04-07T13:45:47.235546Z"
    },
    "papermill": {
     "duration": 0.095349,
     "end_time": "2022-04-07T13:47:57.865846",
     "exception": false,
     "start_time": "2022-04-07T13:47:57.770497",
     "status": "completed"
    },
    "tags": []
   },
   "outputs": [
    {
     "data": {
      "text/html": [
       "<div>\n",
       "<style scoped>\n",
       "    .dataframe tbody tr th:only-of-type {\n",
       "        vertical-align: middle;\n",
       "    }\n",
       "\n",
       "    .dataframe tbody tr th {\n",
       "        vertical-align: top;\n",
       "    }\n",
       "\n",
       "    .dataframe thead th {\n",
       "        text-align: right;\n",
       "    }\n",
       "</style>\n",
       "<table border=\"1\" class=\"dataframe\">\n",
       "  <thead>\n",
       "    <tr style=\"text-align: right;\">\n",
       "      <th></th>\n",
       "      <th>PPI</th>\n",
       "      <th>Credit_Score</th>\n",
       "      <th>Credit Score Category</th>\n",
       "      <th>Final_Grade</th>\n",
       "      <th>Term</th>\n",
       "      <th>Term Category</th>\n",
       "      <th>Net_Advance</th>\n",
       "      <th>Loan_Type</th>\n",
       "      <th>Time_at_Address</th>\n",
       "      <th>Residential_Status</th>\n",
       "      <th>...</th>\n",
       "      <th>Employment_Status</th>\n",
       "      <th>Income_Range</th>\n",
       "      <th>ACCESS_Card</th>\n",
       "      <th>VISA_Card</th>\n",
       "      <th>American_Express</th>\n",
       "      <th>Diners_Card</th>\n",
       "      <th>Cheque_Guarantee</th>\n",
       "      <th>Time_with_Bank</th>\n",
       "      <th>Value_of_Property</th>\n",
       "      <th>Outstanding_Mortgage_Bal</th>\n",
       "    </tr>\n",
       "  </thead>\n",
       "  <tbody>\n",
       "    <tr>\n",
       "      <th>0</th>\n",
       "      <td>0</td>\n",
       "      <td>918</td>\n",
       "      <td>601-1000</td>\n",
       "      <td>A</td>\n",
       "      <td>36</td>\n",
       "      <td>0-60</td>\n",
       "      <td>3000.0</td>\n",
       "      <td>UnSecured</td>\n",
       "      <td>132</td>\n",
       "      <td>H</td>\n",
       "      <td>...</td>\n",
       "      <td>S</td>\n",
       "      <td>6</td>\n",
       "      <td>False</td>\n",
       "      <td>False</td>\n",
       "      <td>False</td>\n",
       "      <td>False</td>\n",
       "      <td>TRUE</td>\n",
       "      <td>168</td>\n",
       "      <td>178000</td>\n",
       "      <td>47679</td>\n",
       "    </tr>\n",
       "    <tr>\n",
       "      <th>1</th>\n",
       "      <td>1</td>\n",
       "      <td>903</td>\n",
       "      <td>601-1000</td>\n",
       "      <td>A</td>\n",
       "      <td>120</td>\n",
       "      <td>60-120</td>\n",
       "      <td>21000.0</td>\n",
       "      <td>secured</td>\n",
       "      <td>288</td>\n",
       "      <td>H</td>\n",
       "      <td>...</td>\n",
       "      <td>R</td>\n",
       "      <td>2</td>\n",
       "      <td>False</td>\n",
       "      <td>True</td>\n",
       "      <td>False</td>\n",
       "      <td>False</td>\n",
       "      <td>TRUE</td>\n",
       "      <td>300</td>\n",
       "      <td>180000</td>\n",
       "      <td>11563</td>\n",
       "    </tr>\n",
       "    <tr>\n",
       "      <th>2</th>\n",
       "      <td>1</td>\n",
       "      <td>1060</td>\n",
       "      <td>&gt;1000</td>\n",
       "      <td>X</td>\n",
       "      <td>78</td>\n",
       "      <td>60-120</td>\n",
       "      <td>7200.0</td>\n",
       "      <td>secured</td>\n",
       "      <td>276</td>\n",
       "      <td>H</td>\n",
       "      <td>...</td>\n",
       "      <td>P</td>\n",
       "      <td>5</td>\n",
       "      <td>False</td>\n",
       "      <td>True</td>\n",
       "      <td>False</td>\n",
       "      <td>False</td>\n",
       "      <td>TRUE</td>\n",
       "      <td>369</td>\n",
       "      <td>199000</td>\n",
       "      <td>17563</td>\n",
       "    </tr>\n",
       "    <tr>\n",
       "      <th>3</th>\n",
       "      <td>1</td>\n",
       "      <td>839</td>\n",
       "      <td>601-1000</td>\n",
       "      <td>B</td>\n",
       "      <td>60</td>\n",
       "      <td>0-60</td>\n",
       "      <td>8000.0</td>\n",
       "      <td>UnSecured</td>\n",
       "      <td>48</td>\n",
       "      <td>R</td>\n",
       "      <td>...</td>\n",
       "      <td>G</td>\n",
       "      <td>6</td>\n",
       "      <td>False</td>\n",
       "      <td>True</td>\n",
       "      <td>False</td>\n",
       "      <td>False</td>\n",
       "      <td>TRUE</td>\n",
       "      <td>216</td>\n",
       "      <td>120000</td>\n",
       "      <td>0</td>\n",
       "    </tr>\n",
       "    <tr>\n",
       "      <th>4</th>\n",
       "      <td>1</td>\n",
       "      <td>1057</td>\n",
       "      <td>&gt;1000</td>\n",
       "      <td>X</td>\n",
       "      <td>60</td>\n",
       "      <td>0-60</td>\n",
       "      <td>7650.0</td>\n",
       "      <td>UnSecured</td>\n",
       "      <td>156</td>\n",
       "      <td>H</td>\n",
       "      <td>...</td>\n",
       "      <td>S</td>\n",
       "      <td>6</td>\n",
       "      <td>True</td>\n",
       "      <td>False</td>\n",
       "      <td>False</td>\n",
       "      <td>False</td>\n",
       "      <td>TRUE</td>\n",
       "      <td>510</td>\n",
       "      <td>180000</td>\n",
       "      <td>60101</td>\n",
       "    </tr>\n",
       "    <tr>\n",
       "      <th>5</th>\n",
       "      <td>1</td>\n",
       "      <td>913</td>\n",
       "      <td>601-1000</td>\n",
       "      <td>A</td>\n",
       "      <td>120</td>\n",
       "      <td>60-120</td>\n",
       "      <td>33000.0</td>\n",
       "      <td>secured</td>\n",
       "      <td>18</td>\n",
       "      <td>H</td>\n",
       "      <td>...</td>\n",
       "      <td>P</td>\n",
       "      <td>6</td>\n",
       "      <td>False</td>\n",
       "      <td>True</td>\n",
       "      <td>False</td>\n",
       "      <td>False</td>\n",
       "      <td>TRUE</td>\n",
       "      <td>240</td>\n",
       "      <td>205000</td>\n",
       "      <td>166543</td>\n",
       "    </tr>\n",
       "    <tr>\n",
       "      <th>6</th>\n",
       "      <td>1</td>\n",
       "      <td>840</td>\n",
       "      <td>601-1000</td>\n",
       "      <td>B</td>\n",
       "      <td>60</td>\n",
       "      <td>0-60</td>\n",
       "      <td>8000.0</td>\n",
       "      <td>UnSecured</td>\n",
       "      <td>293</td>\n",
       "      <td>H</td>\n",
       "      <td>...</td>\n",
       "      <td>P</td>\n",
       "      <td>6</td>\n",
       "      <td>True</td>\n",
       "      <td>True</td>\n",
       "      <td>False</td>\n",
       "      <td>False</td>\n",
       "      <td>TRUE</td>\n",
       "      <td>317</td>\n",
       "      <td>179000</td>\n",
       "      <td>78823</td>\n",
       "    </tr>\n",
       "    <tr>\n",
       "      <th>7</th>\n",
       "      <td>0</td>\n",
       "      <td>961</td>\n",
       "      <td>601-1000</td>\n",
       "      <td>X</td>\n",
       "      <td>60</td>\n",
       "      <td>0-60</td>\n",
       "      <td>5300.0</td>\n",
       "      <td>secured</td>\n",
       "      <td>163</td>\n",
       "      <td>H</td>\n",
       "      <td>...</td>\n",
       "      <td>P</td>\n",
       "      <td>6</td>\n",
       "      <td>False</td>\n",
       "      <td>False</td>\n",
       "      <td>False</td>\n",
       "      <td>False</td>\n",
       "      <td>TRUE</td>\n",
       "      <td>243</td>\n",
       "      <td>92000</td>\n",
       "      <td>73386</td>\n",
       "    </tr>\n",
       "    <tr>\n",
       "      <th>8</th>\n",
       "      <td>1</td>\n",
       "      <td>901</td>\n",
       "      <td>601-1000</td>\n",
       "      <td>A</td>\n",
       "      <td>60</td>\n",
       "      <td>0-60</td>\n",
       "      <td>12000.0</td>\n",
       "      <td>UnSecured</td>\n",
       "      <td>108</td>\n",
       "      <td>H</td>\n",
       "      <td>...</td>\n",
       "      <td>P</td>\n",
       "      <td>6</td>\n",
       "      <td>True</td>\n",
       "      <td>True</td>\n",
       "      <td>True</td>\n",
       "      <td>False</td>\n",
       "      <td>TRUE</td>\n",
       "      <td>180</td>\n",
       "      <td>180000</td>\n",
       "      <td>149254</td>\n",
       "    </tr>\n",
       "    <tr>\n",
       "      <th>9</th>\n",
       "      <td>1</td>\n",
       "      <td>915</td>\n",
       "      <td>601-1000</td>\n",
       "      <td>A</td>\n",
       "      <td>60</td>\n",
       "      <td>0-60</td>\n",
       "      <td>6000.0</td>\n",
       "      <td>UnSecured</td>\n",
       "      <td>36</td>\n",
       "      <td>T</td>\n",
       "      <td>...</td>\n",
       "      <td>D</td>\n",
       "      <td>2</td>\n",
       "      <td>True</td>\n",
       "      <td>True</td>\n",
       "      <td>False</td>\n",
       "      <td>False</td>\n",
       "      <td>TRUE</td>\n",
       "      <td>384</td>\n",
       "      <td>120000</td>\n",
       "      <td>0</td>\n",
       "    </tr>\n",
       "  </tbody>\n",
       "</table>\n",
       "<p>10 rows × 24 columns</p>\n",
       "</div>"
      ],
      "text/plain": [
       "   PPI  Credit_Score Credit Score Category Final_Grade  Term Term Category  \\\n",
       "0    0           918              601-1000           A    36          0-60   \n",
       "1    1           903              601-1000           A   120        60-120   \n",
       "2    1          1060                 >1000           X    78        60-120   \n",
       "3    1           839              601-1000           B    60          0-60   \n",
       "4    1          1057                 >1000           X    60          0-60   \n",
       "5    1           913              601-1000           A   120        60-120   \n",
       "6    1           840              601-1000           B    60          0-60   \n",
       "7    0           961              601-1000           X    60          0-60   \n",
       "8    1           901              601-1000           A    60          0-60   \n",
       "9    1           915              601-1000           A    60          0-60   \n",
       "\n",
       "   Net_Advance  Loan_Type  Time_at_Address Residential_Status  ...  \\\n",
       "0       3000.0  UnSecured              132                  H  ...   \n",
       "1      21000.0  secured                288                  H  ...   \n",
       "2       7200.0  secured                276                  H  ...   \n",
       "3       8000.0  UnSecured               48                  R  ...   \n",
       "4       7650.0  UnSecured              156                  H  ...   \n",
       "5      33000.0  secured                 18                  H  ...   \n",
       "6       8000.0  UnSecured              293                  H  ...   \n",
       "7       5300.0  secured                163                  H  ...   \n",
       "8      12000.0  UnSecured              108                  H  ...   \n",
       "9       6000.0  UnSecured               36                  T  ...   \n",
       "\n",
       "   Employment_Status Income_Range ACCESS_Card  VISA_Card American_Express  \\\n",
       "0                  S            6       False      False            False   \n",
       "1                  R            2       False       True            False   \n",
       "2                  P            5       False       True            False   \n",
       "3                  G            6       False       True            False   \n",
       "4                  S            6        True      False            False   \n",
       "5                  P            6       False       True            False   \n",
       "6                  P            6        True       True            False   \n",
       "7                  P            6       False      False            False   \n",
       "8                  P            6        True       True             True   \n",
       "9                  D            2        True       True            False   \n",
       "\n",
       "   Diners_Card  Cheque_Guarantee  Time_with_Bank  Value_of_Property  \\\n",
       "0        False              TRUE             168             178000   \n",
       "1        False              TRUE             300             180000   \n",
       "2        False              TRUE             369             199000   \n",
       "3        False              TRUE             216             120000   \n",
       "4        False              TRUE             510             180000   \n",
       "5        False              TRUE             240             205000   \n",
       "6        False              TRUE             317             179000   \n",
       "7        False              TRUE             243              92000   \n",
       "8        False              TRUE             180             180000   \n",
       "9        False              TRUE             384             120000   \n",
       "\n",
       "   Outstanding_Mortgage_Bal  \n",
       "0                     47679  \n",
       "1                     11563  \n",
       "2                     17563  \n",
       "3                         0  \n",
       "4                     60101  \n",
       "5                    166543  \n",
       "6                     78823  \n",
       "7                     73386  \n",
       "8                    149254  \n",
       "9                         0  \n",
       "\n",
       "[10 rows x 24 columns]"
      ]
     },
     "execution_count": 157,
     "metadata": {},
     "output_type": "execute_result"
    }
   ],
   "source": [
    "data.head(10)"
   ]
  },
  {
   "cell_type": "markdown",
   "id": "635f1ee0",
   "metadata": {
    "papermill": {
     "duration": 0.065734,
     "end_time": "2022-04-07T13:47:57.999765",
     "exception": false,
     "start_time": "2022-04-07T13:47:57.934031",
     "status": "completed"
    },
    "tags": []
   },
   "source": [
    "**We are just exploring the data**\n"
   ]
  },
  {
   "cell_type": "code",
   "execution_count": 158,
   "id": "bfd5ee29",
   "metadata": {
    "execution": {
     "iopub.execute_input": "2022-04-07T13:47:58.140617Z",
     "iopub.status.busy": "2022-04-07T13:47:58.139967Z",
     "iopub.status.idle": "2022-04-07T13:47:58.142723Z",
     "shell.execute_reply": "2022-04-07T13:47:58.143240Z",
     "shell.execute_reply.started": "2022-04-07T13:45:47.258723Z"
    },
    "papermill": {
     "duration": 0.077331,
     "end_time": "2022-04-07T13:47:58.143402",
     "exception": false,
     "start_time": "2022-04-07T13:47:58.066071",
     "status": "completed"
    },
    "tags": []
   },
   "outputs": [
    {
     "data": {
      "text/plain": [
       "(16383, 24)"
      ]
     },
     "execution_count": 158,
     "metadata": {},
     "output_type": "execute_result"
    }
   ],
   "source": [
    "data.shape"
   ]
  },
  {
   "cell_type": "markdown",
   "id": "eb9dbd56",
   "metadata": {
    "papermill": {
     "duration": 0.06752,
     "end_time": "2022-04-07T13:47:58.280061",
     "exception": false,
     "start_time": "2022-04-07T13:47:58.212541",
     "status": "completed"
    },
    "tags": []
   },
   "source": [
    "**shows about details**"
   ]
  },
  {
   "cell_type": "code",
   "execution_count": 159,
   "id": "563e8a69",
   "metadata": {
    "execution": {
     "iopub.execute_input": "2022-04-07T13:47:58.416999Z",
     "iopub.status.busy": "2022-04-07T13:47:58.416473Z",
     "iopub.status.idle": "2022-04-07T13:47:58.440808Z",
     "shell.execute_reply": "2022-04-07T13:47:58.439543Z",
     "shell.execute_reply.started": "2022-04-07T13:45:47.271170Z"
    },
    "papermill": {
     "duration": 0.093367,
     "end_time": "2022-04-07T13:47:58.440976",
     "exception": false,
     "start_time": "2022-04-07T13:47:58.347609",
     "status": "completed"
    },
    "tags": []
   },
   "outputs": [
    {
     "name": "stdout",
     "output_type": "stream",
     "text": [
      "<class 'pandas.core.frame.DataFrame'>\n",
      "RangeIndex: 16383 entries, 0 to 16382\n",
      "Data columns (total 24 columns):\n",
      " #   Column                    Non-Null Count  Dtype  \n",
      "---  ------                    --------------  -----  \n",
      " 0   PPI                       16383 non-null  int64  \n",
      " 1   Credit_Score              16383 non-null  int64  \n",
      " 2   Credit Score Category     16383 non-null  object \n",
      " 3   Final_Grade               16383 non-null  object \n",
      " 4   Term                      16383 non-null  int64  \n",
      " 5   Term Category             16383 non-null  object \n",
      " 6   Net_Advance               16383 non-null  float64\n",
      " 7   Loan_Type                 16383 non-null  object \n",
      " 8   Time_at_Address           16383 non-null  int64  \n",
      " 9   Residential_Status        16383 non-null  object \n",
      " 10  Number_of_Dependants      16383 non-null  int64  \n",
      " 11  Marital_Status            16383 non-null  object \n",
      " 12  Gender                    16383 non-null  object \n",
      " 13  Time_in_Employment        16383 non-null  int64  \n",
      " 14  Employment_Status         16383 non-null  object \n",
      " 15  Income_Range              16383 non-null  int64  \n",
      " 16  ACCESS_Card               16383 non-null  bool   \n",
      " 17  VISA_Card                 16383 non-null  bool   \n",
      " 18  American_Express          16383 non-null  bool   \n",
      " 19  Diners_Card               16383 non-null  bool   \n",
      " 20  Cheque_Guarantee          16383 non-null  object \n",
      " 21  Time_with_Bank            16383 non-null  int64  \n",
      " 22  Value_of_Property         16383 non-null  int64  \n",
      " 23  Outstanding_Mortgage_Bal  16383 non-null  int64  \n",
      "dtypes: bool(4), float64(1), int64(10), object(9)\n",
      "memory usage: 2.6+ MB\n"
     ]
    }
   ],
   "source": [
    "data.info()"
   ]
  },
  {
   "cell_type": "markdown",
   "id": "940e2090",
   "metadata": {
    "papermill": {
     "duration": 0.065875,
     "end_time": "2022-04-07T13:47:58.573926",
     "exception": false,
     "start_time": "2022-04-07T13:47:58.508051",
     "status": "completed"
    },
    "tags": []
   },
   "source": [
    "**we are checking object columns**"
   ]
  },
  {
   "cell_type": "code",
   "execution_count": 160,
   "id": "b8868538",
   "metadata": {
    "execution": {
     "iopub.execute_input": "2022-04-07T13:47:58.717101Z",
     "iopub.status.busy": "2022-04-07T13:47:58.716372Z",
     "iopub.status.idle": "2022-04-07T13:47:58.719214Z",
     "shell.execute_reply": "2022-04-07T13:47:58.718678Z",
     "shell.execute_reply.started": "2022-04-07T13:45:47.311145Z"
    },
    "papermill": {
     "duration": 0.07814,
     "end_time": "2022-04-07T13:47:58.719340",
     "exception": false,
     "start_time": "2022-04-07T13:47:58.641200",
     "status": "completed"
    },
    "tags": []
   },
   "outputs": [
    {
     "data": {
      "text/plain": [
       "Index(['Credit Score Category', 'Final_Grade', 'Term Category', 'Loan_Type',\n",
       "       'Residential_Status', 'Marital_Status', 'Gender', 'Employment_Status',\n",
       "       'Cheque_Guarantee'],\n",
       "      dtype='object')"
      ]
     },
     "execution_count": 160,
     "metadata": {},
     "output_type": "execute_result"
    }
   ],
   "source": [
    "data.select_dtypes(include= 'object').columns"
   ]
  },
  {
   "cell_type": "markdown",
   "id": "63c02244",
   "metadata": {
    "papermill": {
     "duration": 0.067292,
     "end_time": "2022-04-07T13:47:58.854721",
     "exception": false,
     "start_time": "2022-04-07T13:47:58.787429",
     "status": "completed"
    },
    "tags": []
   },
   "source": [
    "**using len() function to check object columns length**"
   ]
  },
  {
   "cell_type": "code",
   "execution_count": 161,
   "id": "cbc04f42",
   "metadata": {
    "execution": {
     "iopub.execute_input": "2022-04-07T13:47:58.997239Z",
     "iopub.status.busy": "2022-04-07T13:47:58.996660Z",
     "iopub.status.idle": "2022-04-07T13:47:59.000149Z",
     "shell.execute_reply": "2022-04-07T13:47:59.000679Z",
     "shell.execute_reply.started": "2022-04-07T13:45:47.322193Z"
    },
    "papermill": {
     "duration": 0.077758,
     "end_time": "2022-04-07T13:47:59.000816",
     "exception": false,
     "start_time": "2022-04-07T13:47:58.923058",
     "status": "completed"
    },
    "tags": []
   },
   "outputs": [
    {
     "data": {
      "text/plain": [
       "9"
      ]
     },
     "execution_count": 161,
     "metadata": {},
     "output_type": "execute_result"
    }
   ],
   "source": [
    "len(data.select_dtypes(include = 'object').columns)"
   ]
  },
  {
   "cell_type": "code",
   "execution_count": 162,
   "id": "42900821",
   "metadata": {
    "execution": {
     "iopub.execute_input": "2022-04-07T13:47:59.142278Z",
     "iopub.status.busy": "2022-04-07T13:47:59.141738Z",
     "iopub.status.idle": "2022-04-07T13:47:59.149065Z",
     "shell.execute_reply": "2022-04-07T13:47:59.149648Z",
     "shell.execute_reply.started": "2022-04-07T13:45:47.337526Z"
    },
    "papermill": {
     "duration": 0.079426,
     "end_time": "2022-04-07T13:47:59.149786",
     "exception": false,
     "start_time": "2022-04-07T13:47:59.070360",
     "status": "completed"
    },
    "tags": []
   },
   "outputs": [
    {
     "data": {
      "text/plain": [
       "Index(['PPI', 'Credit_Score', 'Term', 'Net_Advance', 'Time_at_Address',\n",
       "       'Number_of_Dependants', 'Time_in_Employment', 'Income_Range',\n",
       "       'Time_with_Bank', 'Value_of_Property', 'Outstanding_Mortgage_Bal'],\n",
       "      dtype='object')"
      ]
     },
     "execution_count": 162,
     "metadata": {},
     "output_type": "execute_result"
    }
   ],
   "source": [
    "data.select_dtypes(include = ['int64','float64']).columns"
   ]
  },
  {
   "cell_type": "code",
   "execution_count": 163,
   "id": "9f7e2b0e",
   "metadata": {
    "execution": {
     "iopub.execute_input": "2022-04-07T13:47:59.293648Z",
     "iopub.status.busy": "2022-04-07T13:47:59.293035Z",
     "iopub.status.idle": "2022-04-07T13:47:59.295349Z",
     "shell.execute_reply": "2022-04-07T13:47:59.295835Z",
     "shell.execute_reply.started": "2022-04-07T13:45:47.352103Z"
    },
    "papermill": {
     "duration": 0.076014,
     "end_time": "2022-04-07T13:47:59.295986",
     "exception": false,
     "start_time": "2022-04-07T13:47:59.219972",
     "status": "completed"
    },
    "tags": []
   },
   "outputs": [
    {
     "data": {
      "text/plain": [
       "11"
      ]
     },
     "execution_count": 163,
     "metadata": {},
     "output_type": "execute_result"
    }
   ],
   "source": [
    "len(data.select_dtypes(include= ['int','float64']).columns)"
   ]
  },
  {
   "cell_type": "markdown",
   "id": "67c55c5f",
   "metadata": {
    "papermill": {
     "duration": 0.068491,
     "end_time": "2022-04-07T13:47:59.433615",
     "exception": false,
     "start_time": "2022-04-07T13:47:59.365124",
     "status": "completed"
    },
    "tags": []
   },
   "source": [
    "# statistical summary"
   ]
  },
  {
   "cell_type": "code",
   "execution_count": 164,
   "id": "846547e6",
   "metadata": {
    "execution": {
     "iopub.execute_input": "2022-04-07T13:47:59.572415Z",
     "iopub.status.busy": "2022-04-07T13:47:59.571882Z",
     "iopub.status.idle": "2022-04-07T13:47:59.610960Z",
     "shell.execute_reply": "2022-04-07T13:47:59.611452Z",
     "shell.execute_reply.started": "2022-04-07T13:45:47.374978Z"
    },
    "papermill": {
     "duration": 0.10968,
     "end_time": "2022-04-07T13:47:59.611625",
     "exception": false,
     "start_time": "2022-04-07T13:47:59.501945",
     "status": "completed"
    },
    "tags": []
   },
   "outputs": [
    {
     "data": {
      "text/html": [
       "<div>\n",
       "<style scoped>\n",
       "    .dataframe tbody tr th:only-of-type {\n",
       "        vertical-align: middle;\n",
       "    }\n",
       "\n",
       "    .dataframe tbody tr th {\n",
       "        vertical-align: top;\n",
       "    }\n",
       "\n",
       "    .dataframe thead th {\n",
       "        text-align: right;\n",
       "    }\n",
       "</style>\n",
       "<table border=\"1\" class=\"dataframe\">\n",
       "  <thead>\n",
       "    <tr style=\"text-align: right;\">\n",
       "      <th></th>\n",
       "      <th>PPI</th>\n",
       "      <th>Credit_Score</th>\n",
       "      <th>Term</th>\n",
       "      <th>Net_Advance</th>\n",
       "      <th>Time_at_Address</th>\n",
       "      <th>Number_of_Dependants</th>\n",
       "      <th>Time_in_Employment</th>\n",
       "      <th>Income_Range</th>\n",
       "      <th>Time_with_Bank</th>\n",
       "      <th>Value_of_Property</th>\n",
       "      <th>Outstanding_Mortgage_Bal</th>\n",
       "    </tr>\n",
       "  </thead>\n",
       "  <tbody>\n",
       "    <tr>\n",
       "      <th>count</th>\n",
       "      <td>16383.000000</td>\n",
       "      <td>16383.000000</td>\n",
       "      <td>16383.000000</td>\n",
       "      <td>16383.000000</td>\n",
       "      <td>16383.000000</td>\n",
       "      <td>16383.000000</td>\n",
       "      <td>16383.000000</td>\n",
       "      <td>16383.000000</td>\n",
       "      <td>16383.000000</td>\n",
       "      <td>1.638300e+04</td>\n",
       "      <td>1.638300e+04</td>\n",
       "    </tr>\n",
       "    <tr>\n",
       "      <th>mean</th>\n",
       "      <td>0.577489</td>\n",
       "      <td>882.061832</td>\n",
       "      <td>59.142892</td>\n",
       "      <td>7364.007758</td>\n",
       "      <td>120.488128</td>\n",
       "      <td>0.808460</td>\n",
       "      <td>103.096075</td>\n",
       "      <td>4.408716</td>\n",
       "      <td>194.491119</td>\n",
       "      <td>1.663663e+05</td>\n",
       "      <td>7.006096e+04</td>\n",
       "    </tr>\n",
       "    <tr>\n",
       "      <th>std</th>\n",
       "      <td>0.493974</td>\n",
       "      <td>93.149605</td>\n",
       "      <td>26.689123</td>\n",
       "      <td>6673.343595</td>\n",
       "      <td>109.192185</td>\n",
       "      <td>1.118947</td>\n",
       "      <td>91.541972</td>\n",
       "      <td>1.668857</td>\n",
       "      <td>107.144729</td>\n",
       "      <td>1.187209e+05</td>\n",
       "      <td>8.302773e+04</td>\n",
       "    </tr>\n",
       "    <tr>\n",
       "      <th>min</th>\n",
       "      <td>0.000000</td>\n",
       "      <td>352.000000</td>\n",
       "      <td>6.000000</td>\n",
       "      <td>500.000000</td>\n",
       "      <td>1.000000</td>\n",
       "      <td>0.000000</td>\n",
       "      <td>0.000000</td>\n",
       "      <td>0.000000</td>\n",
       "      <td>0.000000</td>\n",
       "      <td>1.000000e+00</td>\n",
       "      <td>0.000000e+00</td>\n",
       "    </tr>\n",
       "    <tr>\n",
       "      <th>25%</th>\n",
       "      <td>0.000000</td>\n",
       "      <td>818.000000</td>\n",
       "      <td>48.000000</td>\n",
       "      <td>3000.000000</td>\n",
       "      <td>38.000000</td>\n",
       "      <td>0.000000</td>\n",
       "      <td>38.000000</td>\n",
       "      <td>3.000000</td>\n",
       "      <td>120.000000</td>\n",
       "      <td>1.200000e+05</td>\n",
       "      <td>0.000000e+00</td>\n",
       "    </tr>\n",
       "    <tr>\n",
       "      <th>50%</th>\n",
       "      <td>1.000000</td>\n",
       "      <td>882.000000</td>\n",
       "      <td>60.000000</td>\n",
       "      <td>5300.000000</td>\n",
       "      <td>84.000000</td>\n",
       "      <td>0.000000</td>\n",
       "      <td>72.000000</td>\n",
       "      <td>5.000000</td>\n",
       "      <td>181.000000</td>\n",
       "      <td>1.250000e+05</td>\n",
       "      <td>6.000000e+04</td>\n",
       "    </tr>\n",
       "    <tr>\n",
       "      <th>75%</th>\n",
       "      <td>1.000000</td>\n",
       "      <td>947.000000</td>\n",
       "      <td>60.000000</td>\n",
       "      <td>9000.000000</td>\n",
       "      <td>180.000000</td>\n",
       "      <td>1.000000</td>\n",
       "      <td>144.000000</td>\n",
       "      <td>6.000000</td>\n",
       "      <td>252.000000</td>\n",
       "      <td>1.900000e+05</td>\n",
       "      <td>1.076985e+05</td>\n",
       "    </tr>\n",
       "    <tr>\n",
       "      <th>max</th>\n",
       "      <td>1.000000</td>\n",
       "      <td>1295.000000</td>\n",
       "      <td>300.000000</td>\n",
       "      <td>75000.000000</td>\n",
       "      <td>864.000000</td>\n",
       "      <td>30.000000</td>\n",
       "      <td>600.000000</td>\n",
       "      <td>6.000000</td>\n",
       "      <td>756.000000</td>\n",
       "      <td>3.300000e+06</td>\n",
       "      <td>3.505442e+06</td>\n",
       "    </tr>\n",
       "  </tbody>\n",
       "</table>\n",
       "</div>"
      ],
      "text/plain": [
       "                PPI  Credit_Score          Term   Net_Advance  \\\n",
       "count  16383.000000  16383.000000  16383.000000  16383.000000   \n",
       "mean       0.577489    882.061832     59.142892   7364.007758   \n",
       "std        0.493974     93.149605     26.689123   6673.343595   \n",
       "min        0.000000    352.000000      6.000000    500.000000   \n",
       "25%        0.000000    818.000000     48.000000   3000.000000   \n",
       "50%        1.000000    882.000000     60.000000   5300.000000   \n",
       "75%        1.000000    947.000000     60.000000   9000.000000   \n",
       "max        1.000000   1295.000000    300.000000  75000.000000   \n",
       "\n",
       "       Time_at_Address  Number_of_Dependants  Time_in_Employment  \\\n",
       "count     16383.000000          16383.000000        16383.000000   \n",
       "mean        120.488128              0.808460          103.096075   \n",
       "std         109.192185              1.118947           91.541972   \n",
       "min           1.000000              0.000000            0.000000   \n",
       "25%          38.000000              0.000000           38.000000   \n",
       "50%          84.000000              0.000000           72.000000   \n",
       "75%         180.000000              1.000000          144.000000   \n",
       "max         864.000000             30.000000          600.000000   \n",
       "\n",
       "       Income_Range  Time_with_Bank  Value_of_Property  \\\n",
       "count  16383.000000    16383.000000       1.638300e+04   \n",
       "mean       4.408716      194.491119       1.663663e+05   \n",
       "std        1.668857      107.144729       1.187209e+05   \n",
       "min        0.000000        0.000000       1.000000e+00   \n",
       "25%        3.000000      120.000000       1.200000e+05   \n",
       "50%        5.000000      181.000000       1.250000e+05   \n",
       "75%        6.000000      252.000000       1.900000e+05   \n",
       "max        6.000000      756.000000       3.300000e+06   \n",
       "\n",
       "       Outstanding_Mortgage_Bal  \n",
       "count              1.638300e+04  \n",
       "mean               7.006096e+04  \n",
       "std                8.302773e+04  \n",
       "min                0.000000e+00  \n",
       "25%                0.000000e+00  \n",
       "50%                6.000000e+04  \n",
       "75%                1.076985e+05  \n",
       "max                3.505442e+06  "
      ]
     },
     "execution_count": 164,
     "metadata": {},
     "output_type": "execute_result"
    }
   ],
   "source": [
    "data.describe()"
   ]
  },
  {
   "cell_type": "code",
   "execution_count": 165,
   "id": "b69345a2",
   "metadata": {
    "execution": {
     "iopub.execute_input": "2022-04-07T13:47:59.755001Z",
     "iopub.status.busy": "2022-04-07T13:47:59.754486Z",
     "iopub.status.idle": "2022-04-07T13:47:59.759080Z",
     "shell.execute_reply": "2022-04-07T13:47:59.759631Z",
     "shell.execute_reply.started": "2022-04-07T13:45:47.422289Z"
    },
    "papermill": {
     "duration": 0.077454,
     "end_time": "2022-04-07T13:47:59.759768",
     "exception": false,
     "start_time": "2022-04-07T13:47:59.682314",
     "status": "completed"
    },
    "tags": []
   },
   "outputs": [
    {
     "data": {
      "text/plain": [
       "Index(['PPI', 'Credit_Score', 'Credit Score Category', 'Final_Grade', 'Term',\n",
       "       'Term Category', 'Net_Advance', 'Loan_Type', 'Time_at_Address',\n",
       "       'Residential_Status', 'Number_of_Dependants', 'Marital_Status',\n",
       "       'Gender', 'Time_in_Employment', 'Employment_Status', 'Income_Range',\n",
       "       'ACCESS_Card', 'VISA_Card', 'American_Express', 'Diners_Card',\n",
       "       'Cheque_Guarantee', 'Time_with_Bank', 'Value_of_Property',\n",
       "       'Outstanding_Mortgage_Bal'],\n",
       "      dtype='object')"
      ]
     },
     "execution_count": 165,
     "metadata": {},
     "output_type": "execute_result"
    }
   ],
   "source": [
    "data.columns"
   ]
  },
  {
   "cell_type": "code",
   "execution_count": null,
   "id": "da7a264f",
   "metadata": {
    "papermill": {
     "duration": 0.06984,
     "end_time": "2022-04-07T13:47:59.898528",
     "exception": false,
     "start_time": "2022-04-07T13:47:59.828688",
     "status": "completed"
    },
    "tags": []
   },
   "outputs": [],
   "source": []
  },
  {
   "cell_type": "markdown",
   "id": "ec800def",
   "metadata": {
    "papermill": {
     "duration": 0.070196,
     "end_time": "2022-04-07T13:48:00.038165",
     "exception": false,
     "start_time": "2022-04-07T13:47:59.967969",
     "status": "completed"
    },
    "tags": []
   },
   "source": [
    "# Dealing with missing values"
   ]
  },
  {
   "cell_type": "markdown",
   "id": "675d32ed",
   "metadata": {
    "papermill": {
     "duration": 0.071737,
     "end_time": "2022-04-07T13:48:00.180602",
     "exception": false,
     "start_time": "2022-04-07T13:48:00.108865",
     "status": "completed"
    },
    "tags": []
   },
   "source": [
    "if in our data have some null value then output'True', either not then output'False'"
   ]
  },
  {
   "cell_type": "code",
   "execution_count": 166,
   "id": "429e4713",
   "metadata": {
    "execution": {
     "iopub.execute_input": "2022-04-07T13:48:00.325031Z",
     "iopub.status.busy": "2022-04-07T13:48:00.324476Z",
     "iopub.status.idle": "2022-04-07T13:48:00.332329Z",
     "shell.execute_reply": "2022-04-07T13:48:00.332817Z",
     "shell.execute_reply.started": "2022-04-07T13:45:47.431034Z"
    },
    "papermill": {
     "duration": 0.082205,
     "end_time": "2022-04-07T13:48:00.332963",
     "exception": false,
     "start_time": "2022-04-07T13:48:00.250758",
     "status": "completed"
    },
    "tags": []
   },
   "outputs": [
    {
     "data": {
      "text/plain": [
       "False"
      ]
     },
     "execution_count": 166,
     "metadata": {},
     "output_type": "execute_result"
    }
   ],
   "source": [
    "data.isnull().values.any()"
   ]
  },
  {
   "cell_type": "code",
   "execution_count": 167,
   "id": "84a59f41",
   "metadata": {
    "execution": {
     "iopub.execute_input": "2022-04-07T13:48:00.473562Z",
     "iopub.status.busy": "2022-04-07T13:48:00.472928Z",
     "iopub.status.idle": "2022-04-07T13:48:00.480733Z",
     "shell.execute_reply": "2022-04-07T13:48:00.481209Z",
     "shell.execute_reply.started": "2022-04-07T13:45:47.448323Z"
    },
    "papermill": {
     "duration": 0.079331,
     "end_time": "2022-04-07T13:48:00.481381",
     "exception": false,
     "start_time": "2022-04-07T13:48:00.402050",
     "status": "completed"
    },
    "tags": []
   },
   "outputs": [
    {
     "data": {
      "text/plain": [
       "array([[False, False, False, ..., False, False, False],\n",
       "       [False, False, False, ..., False, False, False],\n",
       "       [False, False, False, ..., False, False, False],\n",
       "       ...,\n",
       "       [False, False, False, ..., False, False, False],\n",
       "       [False, False, False, ..., False, False, False],\n",
       "       [False, False, False, ..., False, False, False]])"
      ]
     },
     "execution_count": 167,
     "metadata": {},
     "output_type": "execute_result"
    }
   ],
   "source": [
    "data.isnull().values"
   ]
  },
  {
   "cell_type": "code",
   "execution_count": 168,
   "id": "73f079e4",
   "metadata": {
    "execution": {
     "iopub.execute_input": "2022-04-07T13:48:00.625058Z",
     "iopub.status.busy": "2022-04-07T13:48:00.624558Z",
     "iopub.status.idle": "2022-04-07T13:48:00.632367Z",
     "shell.execute_reply": "2022-04-07T13:48:00.632806Z",
     "shell.execute_reply.started": "2022-04-07T13:45:47.460825Z"
    },
    "papermill": {
     "duration": 0.080355,
     "end_time": "2022-04-07T13:48:00.632944",
     "exception": false,
     "start_time": "2022-04-07T13:48:00.552589",
     "status": "completed"
    },
    "tags": []
   },
   "outputs": [
    {
     "data": {
      "text/plain": [
       "0"
      ]
     },
     "execution_count": 168,
     "metadata": {},
     "output_type": "execute_result"
    }
   ],
   "source": [
    "data.isnull().values.sum()"
   ]
  },
  {
   "cell_type": "code",
   "execution_count": 169,
   "id": "ac65d5b2",
   "metadata": {
    "execution": {
     "iopub.execute_input": "2022-04-07T13:48:00.777201Z",
     "iopub.status.busy": "2022-04-07T13:48:00.776688Z",
     "iopub.status.idle": "2022-04-07T13:48:00.781956Z",
     "shell.execute_reply": "2022-04-07T13:48:00.781330Z",
     "shell.execute_reply.started": "2022-04-07T13:45:47.472782Z"
    },
    "papermill": {
     "duration": 0.078292,
     "end_time": "2022-04-07T13:48:00.782080",
     "exception": false,
     "start_time": "2022-04-07T13:48:00.703788",
     "status": "completed"
    },
    "tags": []
   },
   "outputs": [
    {
     "data": {
      "text/plain": [
       "(16383, 24)"
      ]
     },
     "execution_count": 169,
     "metadata": {},
     "output_type": "execute_result"
    }
   ],
   "source": [
    "data.shape"
   ]
  },
  {
   "cell_type": "markdown",
   "id": "f75c0759",
   "metadata": {
    "papermill": {
     "duration": 0.075027,
     "end_time": "2022-04-07T13:48:02.198410",
     "exception": false,
     "start_time": "2022-04-07T13:48:02.123383",
     "status": "completed"
    },
    "tags": []
   },
   "source": [
    "**one hot encoding technique One-hot encoding is used to convert categorical variables into a format that can be readily used by machine learning algorithms. The basic idea of one-hot encoding is to create new variables that take on values 0 and 1 to represent the original categorical values."
   ]
  },
  {
   "cell_type": "code",
   "execution_count": 170,
   "id": "ec837857",
   "metadata": {},
   "outputs": [
    {
     "data": {
      "text/html": [
       "<div>\n",
       "<style scoped>\n",
       "    .dataframe tbody tr th:only-of-type {\n",
       "        vertical-align: middle;\n",
       "    }\n",
       "\n",
       "    .dataframe tbody tr th {\n",
       "        vertical-align: top;\n",
       "    }\n",
       "\n",
       "    .dataframe thead th {\n",
       "        text-align: right;\n",
       "    }\n",
       "</style>\n",
       "<table border=\"1\" class=\"dataframe\">\n",
       "  <thead>\n",
       "    <tr style=\"text-align: right;\">\n",
       "      <th></th>\n",
       "      <th>PPI</th>\n",
       "      <th>Credit_Score</th>\n",
       "      <th>Term</th>\n",
       "      <th>Net_Advance</th>\n",
       "      <th>Time_at_Address</th>\n",
       "      <th>Number_of_Dependants</th>\n",
       "      <th>Time_in_Employment</th>\n",
       "      <th>Income_Range</th>\n",
       "      <th>ACCESS_Card</th>\n",
       "      <th>VISA_Card</th>\n",
       "      <th>...</th>\n",
       "      <th>Employment_Status_G</th>\n",
       "      <th>Employment_Status_H</th>\n",
       "      <th>Employment_Status_M</th>\n",
       "      <th>Employment_Status_P</th>\n",
       "      <th>Employment_Status_R</th>\n",
       "      <th>Employment_Status_S</th>\n",
       "      <th>Employment_Status_T</th>\n",
       "      <th>Employment_Status_U</th>\n",
       "      <th>Cheque_Guarantee_FALS</th>\n",
       "      <th>Cheque_Guarantee_TRUE</th>\n",
       "    </tr>\n",
       "  </thead>\n",
       "  <tbody>\n",
       "    <tr>\n",
       "      <th>0</th>\n",
       "      <td>0</td>\n",
       "      <td>918</td>\n",
       "      <td>36</td>\n",
       "      <td>3000.0</td>\n",
       "      <td>132</td>\n",
       "      <td>0</td>\n",
       "      <td>288</td>\n",
       "      <td>6</td>\n",
       "      <td>False</td>\n",
       "      <td>False</td>\n",
       "      <td>...</td>\n",
       "      <td>0</td>\n",
       "      <td>0</td>\n",
       "      <td>0</td>\n",
       "      <td>0</td>\n",
       "      <td>0</td>\n",
       "      <td>1</td>\n",
       "      <td>0</td>\n",
       "      <td>0</td>\n",
       "      <td>0</td>\n",
       "      <td>1</td>\n",
       "    </tr>\n",
       "    <tr>\n",
       "      <th>1</th>\n",
       "      <td>1</td>\n",
       "      <td>903</td>\n",
       "      <td>120</td>\n",
       "      <td>21000.0</td>\n",
       "      <td>288</td>\n",
       "      <td>0</td>\n",
       "      <td>37</td>\n",
       "      <td>2</td>\n",
       "      <td>False</td>\n",
       "      <td>True</td>\n",
       "      <td>...</td>\n",
       "      <td>0</td>\n",
       "      <td>0</td>\n",
       "      <td>0</td>\n",
       "      <td>0</td>\n",
       "      <td>1</td>\n",
       "      <td>0</td>\n",
       "      <td>0</td>\n",
       "      <td>0</td>\n",
       "      <td>0</td>\n",
       "      <td>1</td>\n",
       "    </tr>\n",
       "    <tr>\n",
       "      <th>2</th>\n",
       "      <td>1</td>\n",
       "      <td>1060</td>\n",
       "      <td>78</td>\n",
       "      <td>7200.0</td>\n",
       "      <td>276</td>\n",
       "      <td>0</td>\n",
       "      <td>154</td>\n",
       "      <td>5</td>\n",
       "      <td>False</td>\n",
       "      <td>True</td>\n",
       "      <td>...</td>\n",
       "      <td>0</td>\n",
       "      <td>0</td>\n",
       "      <td>0</td>\n",
       "      <td>1</td>\n",
       "      <td>0</td>\n",
       "      <td>0</td>\n",
       "      <td>0</td>\n",
       "      <td>0</td>\n",
       "      <td>0</td>\n",
       "      <td>1</td>\n",
       "    </tr>\n",
       "    <tr>\n",
       "      <th>3</th>\n",
       "      <td>1</td>\n",
       "      <td>839</td>\n",
       "      <td>60</td>\n",
       "      <td>8000.0</td>\n",
       "      <td>48</td>\n",
       "      <td>0</td>\n",
       "      <td>82</td>\n",
       "      <td>6</td>\n",
       "      <td>False</td>\n",
       "      <td>True</td>\n",
       "      <td>...</td>\n",
       "      <td>1</td>\n",
       "      <td>0</td>\n",
       "      <td>0</td>\n",
       "      <td>0</td>\n",
       "      <td>0</td>\n",
       "      <td>0</td>\n",
       "      <td>0</td>\n",
       "      <td>0</td>\n",
       "      <td>0</td>\n",
       "      <td>1</td>\n",
       "    </tr>\n",
       "    <tr>\n",
       "      <th>4</th>\n",
       "      <td>1</td>\n",
       "      <td>1057</td>\n",
       "      <td>60</td>\n",
       "      <td>7650.0</td>\n",
       "      <td>156</td>\n",
       "      <td>2</td>\n",
       "      <td>342</td>\n",
       "      <td>6</td>\n",
       "      <td>True</td>\n",
       "      <td>False</td>\n",
       "      <td>...</td>\n",
       "      <td>0</td>\n",
       "      <td>0</td>\n",
       "      <td>0</td>\n",
       "      <td>0</td>\n",
       "      <td>0</td>\n",
       "      <td>1</td>\n",
       "      <td>0</td>\n",
       "      <td>0</td>\n",
       "      <td>0</td>\n",
       "      <td>1</td>\n",
       "    </tr>\n",
       "  </tbody>\n",
       "</table>\n",
       "<p>5 rows × 46 columns</p>\n",
       "</div>"
      ],
      "text/plain": [
       "   PPI  Credit_Score  Term  Net_Advance  Time_at_Address  \\\n",
       "0    0           918    36       3000.0              132   \n",
       "1    1           903   120      21000.0              288   \n",
       "2    1          1060    78       7200.0              276   \n",
       "3    1           839    60       8000.0               48   \n",
       "4    1          1057    60       7650.0              156   \n",
       "\n",
       "   Number_of_Dependants  Time_in_Employment  Income_Range  ACCESS_Card  \\\n",
       "0                     0                 288             6        False   \n",
       "1                     0                  37             2        False   \n",
       "2                     0                 154             5        False   \n",
       "3                     0                  82             6        False   \n",
       "4                     2                 342             6         True   \n",
       "\n",
       "   VISA_Card  ...  Employment_Status_G  Employment_Status_H  \\\n",
       "0      False  ...                    0                    0   \n",
       "1       True  ...                    0                    0   \n",
       "2       True  ...                    0                    0   \n",
       "3       True  ...                    1                    0   \n",
       "4      False  ...                    0                    0   \n",
       "\n",
       "   Employment_Status_M  Employment_Status_P  Employment_Status_R  \\\n",
       "0                    0                    0                    0   \n",
       "1                    0                    0                    1   \n",
       "2                    0                    1                    0   \n",
       "3                    0                    0                    0   \n",
       "4                    0                    0                    0   \n",
       "\n",
       "   Employment_Status_S  Employment_Status_T  Employment_Status_U  \\\n",
       "0                    1                    0                    0   \n",
       "1                    0                    0                    0   \n",
       "2                    0                    0                    0   \n",
       "3                    0                    0                    0   \n",
       "4                    1                    0                    0   \n",
       "\n",
       "   Cheque_Guarantee_FALS  Cheque_Guarantee_TRUE  \n",
       "0                      0                      1  \n",
       "1                      0                      1  \n",
       "2                      0                      1  \n",
       "3                      0                      1  \n",
       "4                      0                      1  \n",
       "\n",
       "[5 rows x 46 columns]"
      ]
     },
     "execution_count": 170,
     "metadata": {},
     "output_type": "execute_result"
    }
   ],
   "source": [
    "data = pd.get_dummies(data = data , drop_first = True)\n",
    "data.head()"
   ]
  },
  {
   "cell_type": "markdown",
   "id": "5c734ee6",
   "metadata": {
    "papermill": {
     "duration": 0.072752,
     "end_time": "2022-04-07T13:48:02.515935",
     "exception": false,
     "start_time": "2022-04-07T13:48:02.443183",
     "status": "completed"
    },
    "tags": []
   },
   "source": [
    "# Countplot "
   ]
  },
  {
   "cell_type": "code",
   "execution_count": 171,
   "id": "5423118d",
   "metadata": {
    "execution": {
     "iopub.execute_input": "2022-04-07T13:48:02.663956Z",
     "iopub.status.busy": "2022-04-07T13:48:02.663356Z",
     "iopub.status.idle": "2022-04-07T13:48:02.811800Z",
     "shell.execute_reply": "2022-04-07T13:48:02.812248Z",
     "shell.execute_reply.started": "2022-04-07T13:45:47.671071Z"
    },
    "papermill": {
     "duration": 0.224153,
     "end_time": "2022-04-07T13:48:02.812416",
     "exception": false,
     "start_time": "2022-04-07T13:48:02.588263",
     "status": "completed"
    },
    "tags": []
   },
   "outputs": [
    {
     "name": "stderr",
     "output_type": "stream",
     "text": [
      "C:\\Users\\jayan\\AppData\\Local\\Packages\\PythonSoftwareFoundation.Python.3.9_qbz5n2kfra8p0\\LocalCache\\local-packages\\Python39\\site-packages\\seaborn\\_decorators.py:36: FutureWarning: Pass the following variable as a keyword arg: x. From version 0.12, the only valid positional argument will be `data`, and passing other arguments without an explicit keyword will result in an error or misinterpretation.\n",
      "  warnings.warn(\n"
     ]
    },
    {
     "data": {
      "text/plain": [
       "<AxesSubplot:xlabel='PPI', ylabel='count'>"
      ]
     },
     "execution_count": 171,
     "metadata": {},
     "output_type": "execute_result"
    },
    {
     "data": {
      "image/png": "[encoded data removed]",
      "text/plain": [
       "<Figure size 432x288 with 1 Axes>"
      ]
     },
     "metadata": {
      "needs_background": "light"
     },
     "output_type": "display_data"
    }
   ],
   "source": [
    "sns.countplot(data['PPI'],label = 'count')"
   ]
  },
  {
   "cell_type": "code",
   "execution_count": 172,
   "id": "9edec8eb",
   "metadata": {
    "execution": {
     "iopub.execute_input": "2022-04-07T13:48:02.968007Z",
     "iopub.status.busy": "2022-04-07T13:48:02.967118Z",
     "iopub.status.idle": "2022-04-07T13:48:02.972460Z",
     "shell.execute_reply": "2022-04-07T13:48:02.972856Z",
     "shell.execute_reply.started": "2022-04-07T13:45:47.835128Z"
    },
    "papermill": {
     "duration": 0.083116,
     "end_time": "2022-04-07T13:48:02.972994",
     "exception": false,
     "start_time": "2022-04-07T13:48:02.889878",
     "status": "completed"
    },
    "tags": []
   },
   "outputs": [
    {
     "data": {
      "text/plain": [
       "6922"
      ]
     },
     "execution_count": 172,
     "metadata": {},
     "output_type": "execute_result"
    }
   ],
   "source": [
    "#  0 for present\n",
    "(data.PPI == 0).sum()"
   ]
  },
  {
   "cell_type": "code",
   "execution_count": 173,
   "id": "263492c0",
   "metadata": {
    "execution": {
     "iopub.execute_input": "2022-04-07T13:48:03.129019Z",
     "iopub.status.busy": "2022-04-07T13:48:03.126457Z",
     "iopub.status.idle": "2022-04-07T13:48:03.132384Z",
     "shell.execute_reply": "2022-04-07T13:48:03.131942Z",
     "shell.execute_reply.started": "2022-04-07T13:45:47.844442Z"
    },
    "papermill": {
     "duration": 0.084269,
     "end_time": "2022-04-07T13:48:03.132516",
     "exception": false,
     "start_time": "2022-04-07T13:48:03.048247",
     "status": "completed"
    },
    "tags": []
   },
   "outputs": [
    {
     "data": {
      "text/plain": [
       "9461"
      ]
     },
     "execution_count": 173,
     "metadata": {},
     "output_type": "execute_result"
    }
   ],
   "source": [
    "# 1 for not present\n",
    "(data.PPI == 1).sum()"
   ]
  },
  {
   "cell_type": "markdown",
   "id": "32e8a8f6",
   "metadata": {
    "papermill": {
     "duration": 0.074588,
     "end_time": "2022-04-07T13:48:03.284555",
     "exception": false,
     "start_time": "2022-04-07T13:48:03.209967",
     "status": "completed"
    },
    "tags": []
   },
   "source": [
    "# correlation matrix and heatmap\n",
    "* **highly correlated means 1 and not average below means 0 **"
   ]
  },
  {
   "cell_type": "code",
   "execution_count": 174,
   "id": "231b20ba",
   "metadata": {
    "execution": {
     "iopub.execute_input": "2022-04-07T13:48:03.438912Z",
     "iopub.status.busy": "2022-04-07T13:48:03.438298Z",
     "iopub.status.idle": "2022-04-07T13:48:03.452222Z",
     "shell.execute_reply": "2022-04-07T13:48:03.452646Z",
     "shell.execute_reply.started": "2022-04-07T13:45:47.857655Z"
    },
    "papermill": {
     "duration": 0.092504,
     "end_time": "2022-04-07T13:48:03.452782",
     "exception": false,
     "start_time": "2022-04-07T13:48:03.360278",
     "status": "completed"
    },
    "tags": []
   },
   "outputs": [
    {
     "data": {
      "text/html": [
       "<div>\n",
       "<style scoped>\n",
       "    .dataframe tbody tr th:only-of-type {\n",
       "        vertical-align: middle;\n",
       "    }\n",
       "\n",
       "    .dataframe tbody tr th {\n",
       "        vertical-align: top;\n",
       "    }\n",
       "\n",
       "    .dataframe thead th {\n",
       "        text-align: right;\n",
       "    }\n",
       "</style>\n",
       "<table border=\"1\" class=\"dataframe\">\n",
       "  <thead>\n",
       "    <tr style=\"text-align: right;\">\n",
       "      <th></th>\n",
       "      <th>Credit_Score</th>\n",
       "      <th>Term</th>\n",
       "      <th>Net_Advance</th>\n",
       "      <th>Time_at_Address</th>\n",
       "      <th>Number_of_Dependants</th>\n",
       "      <th>Time_in_Employment</th>\n",
       "      <th>Income_Range</th>\n",
       "      <th>ACCESS_Card</th>\n",
       "      <th>VISA_Card</th>\n",
       "      <th>American_Express</th>\n",
       "      <th>...</th>\n",
       "      <th>Employment_Status_G</th>\n",
       "      <th>Employment_Status_H</th>\n",
       "      <th>Employment_Status_M</th>\n",
       "      <th>Employment_Status_P</th>\n",
       "      <th>Employment_Status_R</th>\n",
       "      <th>Employment_Status_S</th>\n",
       "      <th>Employment_Status_T</th>\n",
       "      <th>Employment_Status_U</th>\n",
       "      <th>Cheque_Guarantee_FALS</th>\n",
       "      <th>Cheque_Guarantee_TRUE</th>\n",
       "    </tr>\n",
       "  </thead>\n",
       "  <tbody>\n",
       "    <tr>\n",
       "      <th>0</th>\n",
       "      <td>918</td>\n",
       "      <td>36</td>\n",
       "      <td>3000.0</td>\n",
       "      <td>132</td>\n",
       "      <td>0</td>\n",
       "      <td>288</td>\n",
       "      <td>6</td>\n",
       "      <td>False</td>\n",
       "      <td>False</td>\n",
       "      <td>False</td>\n",
       "      <td>...</td>\n",
       "      <td>0</td>\n",
       "      <td>0</td>\n",
       "      <td>0</td>\n",
       "      <td>0</td>\n",
       "      <td>0</td>\n",
       "      <td>1</td>\n",
       "      <td>0</td>\n",
       "      <td>0</td>\n",
       "      <td>0</td>\n",
       "      <td>1</td>\n",
       "    </tr>\n",
       "    <tr>\n",
       "      <th>1</th>\n",
       "      <td>903</td>\n",
       "      <td>120</td>\n",
       "      <td>21000.0</td>\n",
       "      <td>288</td>\n",
       "      <td>0</td>\n",
       "      <td>37</td>\n",
       "      <td>2</td>\n",
       "      <td>False</td>\n",
       "      <td>True</td>\n",
       "      <td>False</td>\n",
       "      <td>...</td>\n",
       "      <td>0</td>\n",
       "      <td>0</td>\n",
       "      <td>0</td>\n",
       "      <td>0</td>\n",
       "      <td>1</td>\n",
       "      <td>0</td>\n",
       "      <td>0</td>\n",
       "      <td>0</td>\n",
       "      <td>0</td>\n",
       "      <td>1</td>\n",
       "    </tr>\n",
       "    <tr>\n",
       "      <th>2</th>\n",
       "      <td>1060</td>\n",
       "      <td>78</td>\n",
       "      <td>7200.0</td>\n",
       "      <td>276</td>\n",
       "      <td>0</td>\n",
       "      <td>154</td>\n",
       "      <td>5</td>\n",
       "      <td>False</td>\n",
       "      <td>True</td>\n",
       "      <td>False</td>\n",
       "      <td>...</td>\n",
       "      <td>0</td>\n",
       "      <td>0</td>\n",
       "      <td>0</td>\n",
       "      <td>1</td>\n",
       "      <td>0</td>\n",
       "      <td>0</td>\n",
       "      <td>0</td>\n",
       "      <td>0</td>\n",
       "      <td>0</td>\n",
       "      <td>1</td>\n",
       "    </tr>\n",
       "    <tr>\n",
       "      <th>3</th>\n",
       "      <td>839</td>\n",
       "      <td>60</td>\n",
       "      <td>8000.0</td>\n",
       "      <td>48</td>\n",
       "      <td>0</td>\n",
       "      <td>82</td>\n",
       "      <td>6</td>\n",
       "      <td>False</td>\n",
       "      <td>True</td>\n",
       "      <td>False</td>\n",
       "      <td>...</td>\n",
       "      <td>1</td>\n",
       "      <td>0</td>\n",
       "      <td>0</td>\n",
       "      <td>0</td>\n",
       "      <td>0</td>\n",
       "      <td>0</td>\n",
       "      <td>0</td>\n",
       "      <td>0</td>\n",
       "      <td>0</td>\n",
       "      <td>1</td>\n",
       "    </tr>\n",
       "    <tr>\n",
       "      <th>4</th>\n",
       "      <td>1057</td>\n",
       "      <td>60</td>\n",
       "      <td>7650.0</td>\n",
       "      <td>156</td>\n",
       "      <td>2</td>\n",
       "      <td>342</td>\n",
       "      <td>6</td>\n",
       "      <td>True</td>\n",
       "      <td>False</td>\n",
       "      <td>False</td>\n",
       "      <td>...</td>\n",
       "      <td>0</td>\n",
       "      <td>0</td>\n",
       "      <td>0</td>\n",
       "      <td>0</td>\n",
       "      <td>0</td>\n",
       "      <td>1</td>\n",
       "      <td>0</td>\n",
       "      <td>0</td>\n",
       "      <td>0</td>\n",
       "      <td>1</td>\n",
       "    </tr>\n",
       "  </tbody>\n",
       "</table>\n",
       "<p>5 rows × 45 columns</p>\n",
       "</div>"
      ],
      "text/plain": [
       "   Credit_Score  Term  Net_Advance  Time_at_Address  Number_of_Dependants  \\\n",
       "0           918    36       3000.0              132                     0   \n",
       "1           903   120      21000.0              288                     0   \n",
       "2          1060    78       7200.0              276                     0   \n",
       "3           839    60       8000.0               48                     0   \n",
       "4          1057    60       7650.0              156                     2   \n",
       "\n",
       "   Time_in_Employment  Income_Range  ACCESS_Card  VISA_Card  American_Express  \\\n",
       "0                 288             6        False      False             False   \n",
       "1                  37             2        False       True             False   \n",
       "2                 154             5        False       True             False   \n",
       "3                  82             6        False       True             False   \n",
       "4                 342             6         True      False             False   \n",
       "\n",
       "   ...  Employment_Status_G  Employment_Status_H  Employment_Status_M  \\\n",
       "0  ...                    0                    0                    0   \n",
       "1  ...                    0                    0                    0   \n",
       "2  ...                    0                    0                    0   \n",
       "3  ...                    1                    0                    0   \n",
       "4  ...                    0                    0                    0   \n",
       "\n",
       "   Employment_Status_P  Employment_Status_R  Employment_Status_S  \\\n",
       "0                    0                    0                    1   \n",
       "1                    0                    1                    0   \n",
       "2                    1                    0                    0   \n",
       "3                    0                    0                    0   \n",
       "4                    0                    0                    1   \n",
       "\n",
       "   Employment_Status_T  Employment_Status_U  Cheque_Guarantee_FALS  \\\n",
       "0                    0                    0                      0   \n",
       "1                    0                    0                      0   \n",
       "2                    0                    0                      0   \n",
       "3                    0                    0                      0   \n",
       "4                    0                    0                      0   \n",
       "\n",
       "   Cheque_Guarantee_TRUE  \n",
       "0                      1  \n",
       "1                      1  \n",
       "2                      1  \n",
       "3                      1  \n",
       "4                      1  \n",
       "\n",
       "[5 rows x 45 columns]"
      ]
     },
     "execution_count": 174,
     "metadata": {},
     "output_type": "execute_result"
    }
   ],
   "source": [
    "data2 = data.drop(columns = 'PPI')\n",
    "data2.head()"
   ]
  },
  {
   "cell_type": "code",
   "execution_count": 175,
   "id": "ba7eeffb",
   "metadata": {
    "execution": {
     "iopub.execute_input": "2022-04-07T13:48:03.609014Z",
     "iopub.status.busy": "2022-04-07T13:48:03.608403Z",
     "iopub.status.idle": "2022-04-07T13:48:03.899850Z",
     "shell.execute_reply": "2022-04-07T13:48:03.900285Z",
     "shell.execute_reply.started": "2022-04-07T13:45:47.880943Z"
    },
    "papermill": {
     "duration": 0.3724,
     "end_time": "2022-04-07T13:48:03.900432",
     "exception": false,
     "start_time": "2022-04-07T13:48:03.528032",
     "status": "completed"
    },
    "tags": []
   },
   "outputs": [
    {
     "data": {
      "text/plain": [
       "<AxesSubplot:title={'center':'correlated with Exited'}>"
      ]
     },
     "execution_count": 175,
     "metadata": {},
     "output_type": "execute_result"
    },
    {
     "data": {
      "image/png": "[encoded data removed]",
      "text/plain": [
       "<Figure size 1152x648 with 1 Axes>"
      ]
     },
     "metadata": {
      "needs_background": "light"
     },
     "output_type": "display_data"
    }
   ],
   "source": [
    "data2.corrwith(data['PPI']).plot.bar(\n",
    "        figsize=(16,9),title='correlated with Exited',rot=45,grid=True\n",
    ")"
   ]
  },
  {
   "cell_type": "code",
   "execution_count": 176,
   "id": "ffc01bf7",
   "metadata": {
    "execution": {
     "iopub.execute_input": "2022-04-07T13:48:05.424006Z",
     "iopub.status.busy": "2022-04-07T13:48:05.414089Z",
     "iopub.status.idle": "2022-04-07T13:48:05.426614Z",
     "shell.execute_reply": "2022-04-07T13:48:05.427094Z",
     "shell.execute_reply.started": "2022-04-07T13:45:50.398384Z"
    },
    "papermill": {
     "duration": 0.098015,
     "end_time": "2022-04-07T13:48:05.427229",
     "exception": false,
     "start_time": "2022-04-07T13:48:05.329214",
     "status": "completed"
    },
    "tags": []
   },
   "outputs": [
    {
     "data": {
      "text/html": [
       "<div>\n",
       "<style scoped>\n",
       "    .dataframe tbody tr th:only-of-type {\n",
       "        vertical-align: middle;\n",
       "    }\n",
       "\n",
       "    .dataframe tbody tr th {\n",
       "        vertical-align: top;\n",
       "    }\n",
       "\n",
       "    .dataframe thead th {\n",
       "        text-align: right;\n",
       "    }\n",
       "</style>\n",
       "<table border=\"1\" class=\"dataframe\">\n",
       "  <thead>\n",
       "    <tr style=\"text-align: right;\">\n",
       "      <th></th>\n",
       "      <th>PPI</th>\n",
       "      <th>Credit_Score</th>\n",
       "      <th>Term</th>\n",
       "      <th>Net_Advance</th>\n",
       "      <th>Time_at_Address</th>\n",
       "      <th>Number_of_Dependants</th>\n",
       "      <th>Time_in_Employment</th>\n",
       "      <th>Income_Range</th>\n",
       "      <th>ACCESS_Card</th>\n",
       "      <th>VISA_Card</th>\n",
       "      <th>...</th>\n",
       "      <th>Employment_Status_G</th>\n",
       "      <th>Employment_Status_H</th>\n",
       "      <th>Employment_Status_M</th>\n",
       "      <th>Employment_Status_P</th>\n",
       "      <th>Employment_Status_R</th>\n",
       "      <th>Employment_Status_S</th>\n",
       "      <th>Employment_Status_T</th>\n",
       "      <th>Employment_Status_U</th>\n",
       "      <th>Cheque_Guarantee_FALS</th>\n",
       "      <th>Cheque_Guarantee_TRUE</th>\n",
       "    </tr>\n",
       "  </thead>\n",
       "  <tbody>\n",
       "    <tr>\n",
       "      <th>0</th>\n",
       "      <td>0</td>\n",
       "      <td>918</td>\n",
       "      <td>36</td>\n",
       "      <td>3000.0</td>\n",
       "      <td>132</td>\n",
       "      <td>0</td>\n",
       "      <td>288</td>\n",
       "      <td>6</td>\n",
       "      <td>False</td>\n",
       "      <td>False</td>\n",
       "      <td>...</td>\n",
       "      <td>0</td>\n",
       "      <td>0</td>\n",
       "      <td>0</td>\n",
       "      <td>0</td>\n",
       "      <td>0</td>\n",
       "      <td>1</td>\n",
       "      <td>0</td>\n",
       "      <td>0</td>\n",
       "      <td>0</td>\n",
       "      <td>1</td>\n",
       "    </tr>\n",
       "    <tr>\n",
       "      <th>1</th>\n",
       "      <td>1</td>\n",
       "      <td>903</td>\n",
       "      <td>120</td>\n",
       "      <td>21000.0</td>\n",
       "      <td>288</td>\n",
       "      <td>0</td>\n",
       "      <td>37</td>\n",
       "      <td>2</td>\n",
       "      <td>False</td>\n",
       "      <td>True</td>\n",
       "      <td>...</td>\n",
       "      <td>0</td>\n",
       "      <td>0</td>\n",
       "      <td>0</td>\n",
       "      <td>0</td>\n",
       "      <td>1</td>\n",
       "      <td>0</td>\n",
       "      <td>0</td>\n",
       "      <td>0</td>\n",
       "      <td>0</td>\n",
       "      <td>1</td>\n",
       "    </tr>\n",
       "    <tr>\n",
       "      <th>2</th>\n",
       "      <td>1</td>\n",
       "      <td>1060</td>\n",
       "      <td>78</td>\n",
       "      <td>7200.0</td>\n",
       "      <td>276</td>\n",
       "      <td>0</td>\n",
       "      <td>154</td>\n",
       "      <td>5</td>\n",
       "      <td>False</td>\n",
       "      <td>True</td>\n",
       "      <td>...</td>\n",
       "      <td>0</td>\n",
       "      <td>0</td>\n",
       "      <td>0</td>\n",
       "      <td>1</td>\n",
       "      <td>0</td>\n",
       "      <td>0</td>\n",
       "      <td>0</td>\n",
       "      <td>0</td>\n",
       "      <td>0</td>\n",
       "      <td>1</td>\n",
       "    </tr>\n",
       "    <tr>\n",
       "      <th>3</th>\n",
       "      <td>1</td>\n",
       "      <td>839</td>\n",
       "      <td>60</td>\n",
       "      <td>8000.0</td>\n",
       "      <td>48</td>\n",
       "      <td>0</td>\n",
       "      <td>82</td>\n",
       "      <td>6</td>\n",
       "      <td>False</td>\n",
       "      <td>True</td>\n",
       "      <td>...</td>\n",
       "      <td>1</td>\n",
       "      <td>0</td>\n",
       "      <td>0</td>\n",
       "      <td>0</td>\n",
       "      <td>0</td>\n",
       "      <td>0</td>\n",
       "      <td>0</td>\n",
       "      <td>0</td>\n",
       "      <td>0</td>\n",
       "      <td>1</td>\n",
       "    </tr>\n",
       "    <tr>\n",
       "      <th>4</th>\n",
       "      <td>1</td>\n",
       "      <td>1057</td>\n",
       "      <td>60</td>\n",
       "      <td>7650.0</td>\n",
       "      <td>156</td>\n",
       "      <td>2</td>\n",
       "      <td>342</td>\n",
       "      <td>6</td>\n",
       "      <td>True</td>\n",
       "      <td>False</td>\n",
       "      <td>...</td>\n",
       "      <td>0</td>\n",
       "      <td>0</td>\n",
       "      <td>0</td>\n",
       "      <td>0</td>\n",
       "      <td>0</td>\n",
       "      <td>1</td>\n",
       "      <td>0</td>\n",
       "      <td>0</td>\n",
       "      <td>0</td>\n",
       "      <td>1</td>\n",
       "    </tr>\n",
       "  </tbody>\n",
       "</table>\n",
       "<p>5 rows × 46 columns</p>\n",
       "</div>"
      ],
      "text/plain": [
       "   PPI  Credit_Score  Term  Net_Advance  Time_at_Address  \\\n",
       "0    0           918    36       3000.0              132   \n",
       "1    1           903   120      21000.0              288   \n",
       "2    1          1060    78       7200.0              276   \n",
       "3    1           839    60       8000.0               48   \n",
       "4    1          1057    60       7650.0              156   \n",
       "\n",
       "   Number_of_Dependants  Time_in_Employment  Income_Range  ACCESS_Card  \\\n",
       "0                     0                 288             6        False   \n",
       "1                     0                  37             2        False   \n",
       "2                     0                 154             5        False   \n",
       "3                     0                  82             6        False   \n",
       "4                     2                 342             6         True   \n",
       "\n",
       "   VISA_Card  ...  Employment_Status_G  Employment_Status_H  \\\n",
       "0      False  ...                    0                    0   \n",
       "1       True  ...                    0                    0   \n",
       "2       True  ...                    0                    0   \n",
       "3       True  ...                    1                    0   \n",
       "4      False  ...                    0                    0   \n",
       "\n",
       "   Employment_Status_M  Employment_Status_P  Employment_Status_R  \\\n",
       "0                    0                    0                    0   \n",
       "1                    0                    0                    1   \n",
       "2                    0                    1                    0   \n",
       "3                    0                    0                    0   \n",
       "4                    0                    0                    0   \n",
       "\n",
       "   Employment_Status_S  Employment_Status_T  Employment_Status_U  \\\n",
       "0                    1                    0                    0   \n",
       "1                    0                    0                    0   \n",
       "2                    0                    0                    0   \n",
       "3                    0                    0                    0   \n",
       "4                    1                    0                    0   \n",
       "\n",
       "   Cheque_Guarantee_FALS  Cheque_Guarantee_TRUE  \n",
       "0                      0                      1  \n",
       "1                      0                      1  \n",
       "2                      0                      1  \n",
       "3                      0                      1  \n",
       "4                      0                      1  \n",
       "\n",
       "[5 rows x 46 columns]"
      ]
     },
     "execution_count": 176,
     "metadata": {},
     "output_type": "execute_result"
    }
   ],
   "source": [
    "data.head()"
   ]
  },
  {
   "cell_type": "code",
   "execution_count": 177,
   "id": "dbe366b1",
   "metadata": {},
   "outputs": [],
   "source": [
    "data.replace([np.inf, -np.inf], np.nan, inplace=True)"
   ]
  },
  {
   "cell_type": "code",
   "execution_count": 178,
   "id": "3e5f75e9",
   "metadata": {
    "execution": {
     "iopub.execute_input": "2022-04-07T13:48:05.594251Z",
     "iopub.status.busy": "2022-04-07T13:48:05.593382Z",
     "iopub.status.idle": "2022-04-07T13:48:05.595729Z",
     "shell.execute_reply": "2022-04-07T13:48:05.596201Z",
     "shell.execute_reply.started": "2022-04-07T13:45:50.416271Z"
    },
    "papermill": {
     "duration": 0.088691,
     "end_time": "2022-04-07T13:48:05.596361",
     "exception": false,
     "start_time": "2022-04-07T13:48:05.507670",
     "status": "completed"
    },
    "tags": []
   },
   "outputs": [],
   "source": [
    "# independant / matrix of feature\n",
    "x = data.drop(columns=['PPI'])"
   ]
  },
  {
   "cell_type": "code",
   "execution_count": 179,
   "id": "4ca28457",
   "metadata": {
    "execution": {
     "iopub.execute_input": "2022-04-07T13:48:05.764265Z",
     "iopub.status.busy": "2022-04-07T13:48:05.763284Z",
     "iopub.status.idle": "2022-04-07T13:48:05.766197Z",
     "shell.execute_reply": "2022-04-07T13:48:05.766612Z",
     "shell.execute_reply.started": "2022-04-07T13:45:50.428227Z"
    },
    "papermill": {
     "duration": 0.088769,
     "end_time": "2022-04-07T13:48:05.766762",
     "exception": false,
     "start_time": "2022-04-07T13:48:05.677993",
     "status": "completed"
    },
    "tags": []
   },
   "outputs": [],
   "source": [
    "# target / dependent variable \n",
    "y = data[ 'PPI']"
   ]
  },
  {
   "cell_type": "code",
   "execution_count": 180,
   "id": "0a2d62ca",
   "metadata": {
    "execution": {
     "iopub.execute_input": "2022-04-07T13:48:05.931727Z",
     "iopub.status.busy": "2022-04-07T13:48:05.930921Z",
     "iopub.status.idle": "2022-04-07T13:48:06.085430Z",
     "shell.execute_reply": "2022-04-07T13:48:06.084876Z",
     "shell.execute_reply.started": "2022-04-07T13:45:50.443775Z"
    },
    "papermill": {
     "duration": 0.237626,
     "end_time": "2022-04-07T13:48:06.085618",
     "exception": false,
     "start_time": "2022-04-07T13:48:05.847992",
     "status": "completed"
    },
    "tags": []
   },
   "outputs": [],
   "source": [
    "from sklearn.model_selection import train_test_split"
   ]
  },
  {
   "cell_type": "code",
   "execution_count": 181,
   "id": "fcae670c",
   "metadata": {
    "execution": {
     "iopub.execute_input": "2022-04-07T13:48:06.254097Z",
     "iopub.status.busy": "2022-04-07T13:48:06.253054Z",
     "iopub.status.idle": "2022-04-07T13:48:06.260191Z",
     "shell.execute_reply": "2022-04-07T13:48:06.260795Z",
     "shell.execute_reply.started": "2022-04-07T13:45:50.456611Z"
    },
    "papermill": {
     "duration": 0.092825,
     "end_time": "2022-04-07T13:48:06.260944",
     "exception": false,
     "start_time": "2022-04-07T13:48:06.168119",
     "status": "completed"
    },
    "tags": []
   },
   "outputs": [],
   "source": [
    "x_train,x_test,y_train,y_test = train_test_split(x,y,test_size=0.2,random_state=0)"
   ]
  },
  {
   "cell_type": "code",
   "execution_count": 182,
   "id": "b15030d2",
   "metadata": {
    "execution": {
     "iopub.execute_input": "2022-04-07T13:48:06.428160Z",
     "iopub.status.busy": "2022-04-07T13:48:06.427306Z",
     "iopub.status.idle": "2022-04-07T13:48:06.432270Z",
     "shell.execute_reply": "2022-04-07T13:48:06.432877Z",
     "shell.execute_reply.started": "2022-04-07T13:45:50.471751Z"
    },
    "papermill": {
     "duration": 0.090096,
     "end_time": "2022-04-07T13:48:06.433031",
     "exception": false,
     "start_time": "2022-04-07T13:48:06.342935",
     "status": "completed"
    },
    "tags": []
   },
   "outputs": [
    {
     "data": {
      "text/plain": [
       "(13106, 45)"
      ]
     },
     "execution_count": 182,
     "metadata": {},
     "output_type": "execute_result"
    }
   ],
   "source": [
    "x_train.shape"
   ]
  },
  {
   "cell_type": "code",
   "execution_count": 183,
   "id": "61170835",
   "metadata": {
    "execution": {
     "iopub.execute_input": "2022-04-07T13:48:06.601215Z",
     "iopub.status.busy": "2022-04-07T13:48:06.600430Z",
     "iopub.status.idle": "2022-04-07T13:48:06.603406Z",
     "shell.execute_reply": "2022-04-07T13:48:06.603932Z",
     "shell.execute_reply.started": "2022-04-07T13:45:50.483931Z"
    },
    "papermill": {
     "duration": 0.089436,
     "end_time": "2022-04-07T13:48:06.604101",
     "exception": false,
     "start_time": "2022-04-07T13:48:06.514665",
     "status": "completed"
    },
    "tags": []
   },
   "outputs": [
    {
     "data": {
      "text/plain": [
       "(3277, 45)"
      ]
     },
     "execution_count": 183,
     "metadata": {},
     "output_type": "execute_result"
    }
   ],
   "source": [
    "x_test.shape"
   ]
  },
  {
   "cell_type": "code",
   "execution_count": 184,
   "id": "734bb8bd",
   "metadata": {
    "execution": {
     "iopub.execute_input": "2022-04-07T13:48:06.777738Z",
     "iopub.status.busy": "2022-04-07T13:48:06.777004Z",
     "iopub.status.idle": "2022-04-07T13:48:06.779891Z",
     "shell.execute_reply": "2022-04-07T13:48:06.780352Z",
     "shell.execute_reply.started": "2022-04-07T13:45:50.498748Z"
    },
    "papermill": {
     "duration": 0.093163,
     "end_time": "2022-04-07T13:48:06.780563",
     "exception": false,
     "start_time": "2022-04-07T13:48:06.687400",
     "status": "completed"
    },
    "tags": []
   },
   "outputs": [
    {
     "data": {
      "text/plain": [
       "(13106,)"
      ]
     },
     "execution_count": 184,
     "metadata": {},
     "output_type": "execute_result"
    }
   ],
   "source": [
    "y_train.shape"
   ]
  },
  {
   "cell_type": "code",
   "execution_count": 185,
   "id": "3007e136",
   "metadata": {
    "execution": {
     "iopub.execute_input": "2022-04-07T13:48:06.952090Z",
     "iopub.status.busy": "2022-04-07T13:48:06.951279Z",
     "iopub.status.idle": "2022-04-07T13:48:06.954942Z",
     "shell.execute_reply": "2022-04-07T13:48:06.954349Z",
     "shell.execute_reply.started": "2022-04-07T13:45:50.508945Z"
    },
    "papermill": {
     "duration": 0.090677,
     "end_time": "2022-04-07T13:48:06.955089",
     "exception": false,
     "start_time": "2022-04-07T13:48:06.864412",
     "status": "completed"
    },
    "tags": []
   },
   "outputs": [
    {
     "data": {
      "text/plain": [
       "(3277,)"
      ]
     },
     "execution_count": 185,
     "metadata": {},
     "output_type": "execute_result"
    }
   ],
   "source": [
    "y_test.shape"
   ]
  },
  {
   "cell_type": "code",
   "execution_count": 186,
   "id": "0ee6e98b",
   "metadata": {
    "execution": {
     "iopub.execute_input": "2022-04-07T13:48:07.123615Z",
     "iopub.status.busy": "2022-04-07T13:48:07.123059Z",
     "iopub.status.idle": "2022-04-07T13:48:07.125733Z",
     "shell.execute_reply": "2022-04-07T13:48:07.126151Z",
     "shell.execute_reply.started": "2022-04-07T13:45:50.522592Z"
    },
    "papermill": {
     "duration": 0.088332,
     "end_time": "2022-04-07T13:48:07.126294",
     "exception": false,
     "start_time": "2022-04-07T13:48:07.037962",
     "status": "completed"
    },
    "tags": []
   },
   "outputs": [],
   "source": [
    "from sklearn.preprocessing import StandardScaler"
   ]
  },
  {
   "cell_type": "code",
   "execution_count": 187,
   "id": "364731e6",
   "metadata": {
    "execution": {
     "iopub.execute_input": "2022-04-07T13:48:07.300213Z",
     "iopub.status.busy": "2022-04-07T13:48:07.299698Z",
     "iopub.status.idle": "2022-04-07T13:48:07.302404Z",
     "shell.execute_reply": "2022-04-07T13:48:07.302986Z",
     "shell.execute_reply.started": "2022-04-07T13:45:50.536565Z"
    },
    "papermill": {
     "duration": 0.091262,
     "end_time": "2022-04-07T13:48:07.303138",
     "exception": false,
     "start_time": "2022-04-07T13:48:07.211876",
     "status": "completed"
    },
    "tags": []
   },
   "outputs": [],
   "source": [
    "sc = StandardScaler()"
   ]
  },
  {
   "cell_type": "code",
   "execution_count": 188,
   "id": "d33d535f",
   "metadata": {
    "execution": {
     "iopub.execute_input": "2022-04-07T13:48:07.471051Z",
     "iopub.status.busy": "2022-04-07T13:48:07.470517Z",
     "iopub.status.idle": "2022-04-07T13:48:07.479849Z",
     "shell.execute_reply": "2022-04-07T13:48:07.480278Z",
     "shell.execute_reply.started": "2022-04-07T13:45:50.551177Z"
    },
    "papermill": {
     "duration": 0.094092,
     "end_time": "2022-04-07T13:48:07.480434",
     "exception": false,
     "start_time": "2022-04-07T13:48:07.386342",
     "status": "completed"
    },
    "tags": []
   },
   "outputs": [],
   "source": [
    "x_train = sc.fit_transform(x_train)\n",
    "x_test = sc.transform(x_test)"
   ]
  },
  {
   "cell_type": "code",
   "execution_count": 189,
   "id": "0a5b0bd3",
   "metadata": {
    "execution": {
     "iopub.execute_input": "2022-04-07T13:48:07.650295Z",
     "iopub.status.busy": "2022-04-07T13:48:07.649791Z",
     "iopub.status.idle": "2022-04-07T13:48:07.654367Z",
     "shell.execute_reply": "2022-04-07T13:48:07.654968Z",
     "shell.execute_reply.started": "2022-04-07T13:45:50.571316Z"
    },
    "papermill": {
     "duration": 0.091772,
     "end_time": "2022-04-07T13:48:07.655139",
     "exception": false,
     "start_time": "2022-04-07T13:48:07.563367",
     "status": "completed"
    },
    "tags": []
   },
   "outputs": [
    {
     "data": {
      "text/plain": [
       "array([[-1.22338853, -0.86650005, -0.88045796, ..., -0.02140129,\n",
       "        -0.34638056,  0.34693293],\n",
       "       [ 0.78555087, -0.86650005,  0.02284724, ..., -0.02140129,\n",
       "        -0.34638056,  0.34693293],\n",
       "       [ 0.43291789,  0.03289109,  0.24867354, ..., -0.02140129,\n",
       "        -0.34638056,  0.34693293],\n",
       "       ...,\n",
       "       [-1.44779133, -1.31619562, -0.9557334 , ..., -0.02140129,\n",
       "         2.88699807, -2.88240154],\n",
       "       [-1.87522524,  0.03289109, -0.88045796, ..., -0.02140129,\n",
       "        -0.34638056,  0.34693293],\n",
       "       [ 0.09097076,  0.03289109, -0.35352993, ..., -0.02140129,\n",
       "        -0.34638056,  0.34693293]])"
      ]
     },
     "execution_count": 189,
     "metadata": {},
     "output_type": "execute_result"
    }
   ],
   "source": [
    "x_train"
   ]
  },
  {
   "cell_type": "code",
   "execution_count": 190,
   "id": "aba040b0",
   "metadata": {
    "execution": {
     "iopub.execute_input": "2022-04-07T13:48:07.823177Z",
     "iopub.status.busy": "2022-04-07T13:48:07.822625Z",
     "iopub.status.idle": "2022-04-07T13:48:07.827299Z",
     "shell.execute_reply": "2022-04-07T13:48:07.827812Z",
     "shell.execute_reply.started": "2022-04-07T13:45:50.579527Z"
    },
    "papermill": {
     "duration": 0.090969,
     "end_time": "2022-04-07T13:48:07.827944",
     "exception": false,
     "start_time": "2022-04-07T13:48:07.736975",
     "status": "completed"
    },
    "tags": []
   },
   "outputs": [
    {
     "data": {
      "text/plain": [
       "array([[ 0.52909052,  0.03289109,  0.02284724, ..., -0.02140129,\n",
       "        -0.34638056,  0.34693293],\n",
       "       [ 3.45701283, -0.41680448,  0.12748009, ..., -0.02140129,\n",
       "        -0.34638056,  0.34693293],\n",
       "       [ 1.09544046,  0.03289109,  0.39922441, ..., -0.02140129,\n",
       "        -0.34638056,  0.34693293],\n",
       "       ...,\n",
       "       [-0.72115368,  0.03289109, -0.42880536, ..., -0.02140129,\n",
       "        -0.34638056,  0.34693293],\n",
       "       [-0.29371976,  0.03289109, -0.35352993, ..., -0.02140129,\n",
       "         2.88699807, -2.88240154],\n",
       "       [ 1.23435648, -0.41680448, -0.65463166, ..., -0.02140129,\n",
       "        -0.34638056,  0.34693293]])"
      ]
     },
     "execution_count": 190,
     "metadata": {},
     "output_type": "execute_result"
    }
   ],
   "source": [
    " x_test"
   ]
  },
  {
   "cell_type": "code",
   "execution_count": 191,
   "id": "53c54c6d",
   "metadata": {
    "execution": {
     "iopub.execute_input": "2022-04-07T13:48:07.998516Z",
     "iopub.status.busy": "2022-04-07T13:48:07.997894Z",
     "iopub.status.idle": "2022-04-07T13:48:08.090163Z",
     "shell.execute_reply": "2022-04-07T13:48:08.091086Z",
     "shell.execute_reply.started": "2022-04-07T13:45:50.596732Z"
    },
    "papermill": {
     "duration": 0.180877,
     "end_time": "2022-04-07T13:48:08.091337",
     "exception": false,
     "start_time": "2022-04-07T13:48:07.910460",
     "status": "completed"
    },
    "tags": []
   },
   "outputs": [
    {
     "data": {
      "text/plain": [
       "LogisticRegression(random_state=0)"
      ]
     },
     "execution_count": 191,
     "metadata": {},
     "output_type": "execute_result"
    }
   ],
   "source": [
    "from sklearn.linear_model import LogisticRegression\n",
    "clr = LogisticRegression(random_state=0 )\n",
    "clr.fit(x_train,y_train)"
   ]
  },
  {
   "cell_type": "code",
   "execution_count": 192,
   "id": "2c66f6c8",
   "metadata": {
    "execution": {
     "iopub.execute_input": "2022-04-07T13:48:08.336888Z",
     "iopub.status.busy": "2022-04-07T13:48:08.335845Z",
     "iopub.status.idle": "2022-04-07T13:48:08.340602Z",
     "shell.execute_reply": "2022-04-07T13:48:08.341474Z",
     "shell.execute_reply.started": "2022-04-07T13:45:50.631535Z"
    },
    "papermill": {
     "duration": 0.103982,
     "end_time": "2022-04-07T13:48:08.341714",
     "exception": false,
     "start_time": "2022-04-07T13:48:08.237732",
     "status": "completed"
    },
    "tags": []
   },
   "outputs": [],
   "source": [
    "y_pred = clr.predict(x_test)"
   ]
  },
  {
   "cell_type": "code",
   "execution_count": 193,
   "id": "93f603fb",
   "metadata": {
    "execution": {
     "iopub.execute_input": "2022-04-07T13:48:08.569364Z",
     "iopub.status.busy": "2022-04-07T13:48:08.568794Z",
     "iopub.status.idle": "2022-04-07T13:48:08.571072Z",
     "shell.execute_reply": "2022-04-07T13:48:08.570604Z",
     "shell.execute_reply.started": "2022-04-07T13:45:50.648853Z"
    },
    "papermill": {
     "duration": 0.090986,
     "end_time": "2022-04-07T13:48:08.571181",
     "exception": false,
     "start_time": "2022-04-07T13:48:08.480195",
     "status": "completed"
    },
    "tags": []
   },
   "outputs": [],
   "source": [
    "from sklearn.metrics import accuracy_score,confusion_matrix,f1_score,precision_score,recall_score "
   ]
  },
  {
   "cell_type": "code",
   "execution_count": 194,
   "id": "ca0f8024",
   "metadata": {
    "execution": {
     "iopub.execute_input": "2022-04-07T13:48:08.743285Z",
     "iopub.status.busy": "2022-04-07T13:48:08.742698Z",
     "iopub.status.idle": "2022-04-07T13:48:08.751605Z",
     "shell.execute_reply": "2022-04-07T13:48:08.752043Z",
     "shell.execute_reply.started": "2022-04-07T13:45:50.663108Z"
    },
    "papermill": {
     "duration": 0.095752,
     "end_time": "2022-04-07T13:48:08.752174",
     "exception": false,
     "start_time": "2022-04-07T13:48:08.656422",
     "status": "completed"
    },
    "tags": []
   },
   "outputs": [],
   "source": [
    "acc = accuracy_score(y_test,y_pred)\n",
    "f1  = f1_score(y_test,y_pred)\n",
    "pr  =  precision_score(y_test,y_pred)\n",
    "re  =  recall_score(y_test,y_pred)\n"
   ]
  },
  {
   "cell_type": "code",
   "execution_count": 195,
   "id": "dfa31521",
   "metadata": {
    "execution": {
     "iopub.execute_input": "2022-04-07T13:48:08.923583Z",
     "iopub.status.busy": "2022-04-07T13:48:08.923059Z",
     "iopub.status.idle": "2022-04-07T13:48:08.927649Z",
     "shell.execute_reply": "2022-04-07T13:48:08.928075Z",
     "shell.execute_reply.started": "2022-04-07T13:45:50.691028Z"
    },
    "papermill": {
     "duration": 0.091042,
     "end_time": "2022-04-07T13:48:08.928208",
     "exception": false,
     "start_time": "2022-04-07T13:48:08.837166",
     "status": "completed"
    },
    "tags": []
   },
   "outputs": [],
   "source": [
    "results = pd.DataFrame([['Logistic Regression',acc,f1,pr,re]],\n",
    "                      columns=['Model','Accuracy','F1','precision','recall'])"
   ]
  },
  {
   "cell_type": "code",
   "execution_count": 196,
   "id": "ec9293cc",
   "metadata": {
    "execution": {
     "iopub.execute_input": "2022-04-07T13:48:09.100003Z",
     "iopub.status.busy": "2022-04-07T13:48:09.099437Z",
     "iopub.status.idle": "2022-04-07T13:48:09.107869Z",
     "shell.execute_reply": "2022-04-07T13:48:09.108384Z",
     "shell.execute_reply.started": "2022-04-07T13:45:50.708754Z"
    },
    "papermill": {
     "duration": 0.097166,
     "end_time": "2022-04-07T13:48:09.108575",
     "exception": false,
     "start_time": "2022-04-07T13:48:09.011409",
     "status": "completed"
    },
    "tags": []
   },
   "outputs": [
    {
     "data": {
      "text/html": [
       "<div>\n",
       "<style scoped>\n",
       "    .dataframe tbody tr th:only-of-type {\n",
       "        vertical-align: middle;\n",
       "    }\n",
       "\n",
       "    .dataframe tbody tr th {\n",
       "        vertical-align: top;\n",
       "    }\n",
       "\n",
       "    .dataframe thead th {\n",
       "        text-align: right;\n",
       "    }\n",
       "</style>\n",
       "<table border=\"1\" class=\"dataframe\">\n",
       "  <thead>\n",
       "    <tr style=\"text-align: right;\">\n",
       "      <th></th>\n",
       "      <th>Model</th>\n",
       "      <th>Accuracy</th>\n",
       "      <th>F1</th>\n",
       "      <th>precision</th>\n",
       "      <th>recall</th>\n",
       "    </tr>\n",
       "  </thead>\n",
       "  <tbody>\n",
       "    <tr>\n",
       "      <th>0</th>\n",
       "      <td>Logistic Regression</td>\n",
       "      <td>0.649069</td>\n",
       "      <td>0.723158</td>\n",
       "      <td>0.664896</td>\n",
       "      <td>0.792612</td>\n",
       "    </tr>\n",
       "  </tbody>\n",
       "</table>\n",
       "</div>"
      ],
      "text/plain": [
       "                 Model  Accuracy        F1  precision    recall\n",
       "0  Logistic Regression  0.649069  0.723158   0.664896  0.792612"
      ]
     },
     "execution_count": 196,
     "metadata": {},
     "output_type": "execute_result"
    }
   ],
   "source": [
    "results"
   ]
  },
  {
   "cell_type": "code",
   "execution_count": 197,
   "id": "98193156",
   "metadata": {
    "execution": {
     "iopub.execute_input": "2022-04-07T13:48:09.283294Z",
     "iopub.status.busy": "2022-04-07T13:48:09.282735Z",
     "iopub.status.idle": "2022-04-07T13:48:09.287759Z",
     "shell.execute_reply": "2022-04-07T13:48:09.288124Z",
     "shell.execute_reply.started": "2022-04-07T13:45:50.737306Z"
    },
    "papermill": {
     "duration": 0.094569,
     "end_time": "2022-04-07T13:48:09.288257",
     "exception": false,
     "start_time": "2022-04-07T13:48:09.193688",
     "status": "completed"
    },
    "tags": []
   },
   "outputs": [],
   "source": [
    "cm = confusion_matrix(y_test,y_pred)"
   ]
  },
  {
   "cell_type": "code",
   "execution_count": 198,
   "id": "67eb3e63",
   "metadata": {
    "execution": {
     "iopub.execute_input": "2022-04-07T13:48:09.467305Z",
     "iopub.status.busy": "2022-04-07T13:48:09.466485Z",
     "iopub.status.idle": "2022-04-07T13:48:09.474200Z",
     "shell.execute_reply": "2022-04-07T13:48:09.475035Z",
     "shell.execute_reply.started": "2022-04-07T13:45:50.747237Z"
    },
    "papermill": {
     "duration": 0.103473,
     "end_time": "2022-04-07T13:48:09.475250",
     "exception": false,
     "start_time": "2022-04-07T13:48:09.371777",
     "status": "completed"
    },
    "tags": []
   },
   "outputs": [
    {
     "name": "stdout",
     "output_type": "stream",
     "text": [
      "[[ 625  757]\n",
      " [ 393 1502]]\n"
     ]
    }
   ],
   "source": [
    "print(cm)"
   ]
  },
  {
   "cell_type": "code",
   "execution_count": 199,
   "id": "3e4b270a",
   "metadata": {
    "execution": {
     "iopub.execute_input": "2022-04-07T13:48:09.664790Z",
     "iopub.status.busy": "2022-04-07T13:48:09.663508Z",
     "iopub.status.idle": "2022-04-07T13:48:09.961854Z",
     "shell.execute_reply": "2022-04-07T13:48:09.962961Z",
     "shell.execute_reply.started": "2022-04-07T13:45:50.759977Z"
    },
    "papermill": {
     "duration": 0.391495,
     "end_time": "2022-04-07T13:48:09.963174",
     "exception": false,
     "start_time": "2022-04-07T13:48:09.571679",
     "status": "completed"
    },
    "tags": []
   },
   "outputs": [
    {
     "name": "stdout",
     "output_type": "stream",
     "text": [
      "accuracy is 65.79 %\n",
      "standard deviation is 0.82 %\n"
     ]
    }
   ],
   "source": [
    "from sklearn.model_selection import cross_val_score\n",
    "accuracies = cross_val_score(estimator=clr,X=x_train,y=y_train,cv=10)\n",
    "\n",
    "print('accuracy is {:.2f} %'.format(accuracies.mean()*100))\n",
    "print('standard deviation is {:.2f} %'.format(accuracies.std()*100))"
   ]
  }
 ],
 "metadata": {
  "interpreter": {
   "hash": "296cd49d5e7113b5a09cccf2243a7a81423082c275407210e8b21f42bf97a2a8"
  },
  "kernelspec": {
   "display_name": "Python 3.9.12 64-bit (windows store)",
   "language": "python",
   "name": "python3"
  },
  "language_info": {
   "codemirror_mode": {
    "name": "ipython",
    "version": 3
   },
   "file_extension": ".py",
   "mimetype": "text/x-python",
   "name": "python",
   "nbconvert_exporter": "python",
   "pygments_lexer": "ipython3",
   "version": "3.9.12"
  },
  "papermill": {
   "default_parameters": {},
   "duration": 44.64692,
   "end_time": "2022-04-07T13:48:31.946245",
   "environment_variables": {},
   "exception": null,
   "input_path": "__notebook__.ipynb",
   "output_path": "__notebook__.ipynb",
   "parameters": {},
   "start_time": "2022-04-07T13:47:47.299325",
   "version": "2.3.3"
  }
 },
 "nbformat": 4,
 "nbformat_minor": 5
}
